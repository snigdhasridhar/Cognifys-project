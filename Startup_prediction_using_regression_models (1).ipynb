{
  "nbformat": 4,
  "nbformat_minor": 0,
  "metadata": {
    "colab": {
      "provenance": [],
      "authorship_tag": "ABX9TyPvbqZOl7o/2nR9udgBwwo9",
      "include_colab_link": true
    },
    "kernelspec": {
      "name": "python3",
      "display_name": "Python 3"
    },
    "language_info": {
      "name": "python"
    }
  },
  "cells": [
    {
      "cell_type": "markdown",
      "metadata": {
        "id": "view-in-github",
        "colab_type": "text"
      },
      "source": [
        "<a href=\"https://colab.research.google.com/github/21cb55snigdha/Cognifys-projects-/blob/main/Startup_prediction_using_regression_models.ipynb\" target=\"_parent\"><img src=\"https://colab.research.google.com/assets/colab-badge.svg\" alt=\"Open In Colab\"/></a>"
      ]
    },
    {
      "cell_type": "code",
      "execution_count": null,
      "metadata": {
        "id": "6qSNMlTnMXwv"
      },
      "outputs": [],
      "source": [
        "import pandas as pd\n",
        "import numpy as np\n",
        "import matplotlib.pyplot as plt\n",
        "import seaborn as sns\n",
        "\n",
        "import warnings\n",
        "warnings.filterwarnings(\"ignore\")"
      ]
    },
    {
      "cell_type": "code",
      "source": [
        "# Loading the csv file and checking top 5 observations of our dataset.\n",
        "\n",
        "data=pd.read_csv('50_Startups (3).csv')\n",
        "data.head()"
      ],
      "metadata": {
        "colab": {
          "base_uri": "https://localhost:8080/",
          "height": 206
        },
        "id": "iHjA0vQlMdzO",
        "outputId": "58eeb4b6-11f2-4298-f676-fb6be0d921c2"
      },
      "execution_count": null,
      "outputs": [
        {
          "output_type": "execute_result",
          "data": {
            "text/plain": [
              "   R&D Spend  Administration  Marketing Spend     Profit\n",
              "0  165349.20       136897.80        471784.10  192261.83\n",
              "1  162597.70       151377.59        443898.53  191792.06\n",
              "2  153441.51       101145.55        407934.54  191050.39\n",
              "3  144372.41       118671.85        383199.62  182901.99\n",
              "4  142107.34        91391.77        366168.42  166187.94"
            ],
            "text/html": [
              "\n",
              "  <div id=\"df-fd94396e-491c-46fc-b3d5-054db4e7ec96\">\n",
              "    <div class=\"colab-df-container\">\n",
              "      <div>\n",
              "<style scoped>\n",
              "    .dataframe tbody tr th:only-of-type {\n",
              "        vertical-align: middle;\n",
              "    }\n",
              "\n",
              "    .dataframe tbody tr th {\n",
              "        vertical-align: top;\n",
              "    }\n",
              "\n",
              "    .dataframe thead th {\n",
              "        text-align: right;\n",
              "    }\n",
              "</style>\n",
              "<table border=\"1\" class=\"dataframe\">\n",
              "  <thead>\n",
              "    <tr style=\"text-align: right;\">\n",
              "      <th></th>\n",
              "      <th>R&amp;D Spend</th>\n",
              "      <th>Administration</th>\n",
              "      <th>Marketing Spend</th>\n",
              "      <th>Profit</th>\n",
              "    </tr>\n",
              "  </thead>\n",
              "  <tbody>\n",
              "    <tr>\n",
              "      <th>0</th>\n",
              "      <td>165349.20</td>\n",
              "      <td>136897.80</td>\n",
              "      <td>471784.10</td>\n",
              "      <td>192261.83</td>\n",
              "    </tr>\n",
              "    <tr>\n",
              "      <th>1</th>\n",
              "      <td>162597.70</td>\n",
              "      <td>151377.59</td>\n",
              "      <td>443898.53</td>\n",
              "      <td>191792.06</td>\n",
              "    </tr>\n",
              "    <tr>\n",
              "      <th>2</th>\n",
              "      <td>153441.51</td>\n",
              "      <td>101145.55</td>\n",
              "      <td>407934.54</td>\n",
              "      <td>191050.39</td>\n",
              "    </tr>\n",
              "    <tr>\n",
              "      <th>3</th>\n",
              "      <td>144372.41</td>\n",
              "      <td>118671.85</td>\n",
              "      <td>383199.62</td>\n",
              "      <td>182901.99</td>\n",
              "    </tr>\n",
              "    <tr>\n",
              "      <th>4</th>\n",
              "      <td>142107.34</td>\n",
              "      <td>91391.77</td>\n",
              "      <td>366168.42</td>\n",
              "      <td>166187.94</td>\n",
              "    </tr>\n",
              "  </tbody>\n",
              "</table>\n",
              "</div>\n",
              "      <button class=\"colab-df-convert\" onclick=\"convertToInteractive('df-fd94396e-491c-46fc-b3d5-054db4e7ec96')\"\n",
              "              title=\"Convert this dataframe to an interactive table.\"\n",
              "              style=\"display:none;\">\n",
              "        \n",
              "  <svg xmlns=\"http://www.w3.org/2000/svg\" height=\"24px\"viewBox=\"0 0 24 24\"\n",
              "       width=\"24px\">\n",
              "    <path d=\"M0 0h24v24H0V0z\" fill=\"none\"/>\n",
              "    <path d=\"M18.56 5.44l.94 2.06.94-2.06 2.06-.94-2.06-.94-.94-2.06-.94 2.06-2.06.94zm-11 1L8.5 8.5l.94-2.06 2.06-.94-2.06-.94L8.5 2.5l-.94 2.06-2.06.94zm10 10l.94 2.06.94-2.06 2.06-.94-2.06-.94-.94-2.06-.94 2.06-2.06.94z\"/><path d=\"M17.41 7.96l-1.37-1.37c-.4-.4-.92-.59-1.43-.59-.52 0-1.04.2-1.43.59L10.3 9.45l-7.72 7.72c-.78.78-.78 2.05 0 2.83L4 21.41c.39.39.9.59 1.41.59.51 0 1.02-.2 1.41-.59l7.78-7.78 2.81-2.81c.8-.78.8-2.07 0-2.86zM5.41 20L4 18.59l7.72-7.72 1.47 1.35L5.41 20z\"/>\n",
              "  </svg>\n",
              "      </button>\n",
              "      \n",
              "  <style>\n",
              "    .colab-df-container {\n",
              "      display:flex;\n",
              "      flex-wrap:wrap;\n",
              "      gap: 12px;\n",
              "    }\n",
              "\n",
              "    .colab-df-convert {\n",
              "      background-color: #E8F0FE;\n",
              "      border: none;\n",
              "      border-radius: 50%;\n",
              "      cursor: pointer;\n",
              "      display: none;\n",
              "      fill: #1967D2;\n",
              "      height: 32px;\n",
              "      padding: 0 0 0 0;\n",
              "      width: 32px;\n",
              "    }\n",
              "\n",
              "    .colab-df-convert:hover {\n",
              "      background-color: #E2EBFA;\n",
              "      box-shadow: 0px 1px 2px rgba(60, 64, 67, 0.3), 0px 1px 3px 1px rgba(60, 64, 67, 0.15);\n",
              "      fill: #174EA6;\n",
              "    }\n",
              "\n",
              "    [theme=dark] .colab-df-convert {\n",
              "      background-color: #3B4455;\n",
              "      fill: #D2E3FC;\n",
              "    }\n",
              "\n",
              "    [theme=dark] .colab-df-convert:hover {\n",
              "      background-color: #434B5C;\n",
              "      box-shadow: 0px 1px 3px 1px rgba(0, 0, 0, 0.15);\n",
              "      filter: drop-shadow(0px 1px 2px rgba(0, 0, 0, 0.3));\n",
              "      fill: #FFFFFF;\n",
              "    }\n",
              "  </style>\n",
              "\n",
              "      <script>\n",
              "        const buttonEl =\n",
              "          document.querySelector('#df-fd94396e-491c-46fc-b3d5-054db4e7ec96 button.colab-df-convert');\n",
              "        buttonEl.style.display =\n",
              "          google.colab.kernel.accessAllowed ? 'block' : 'none';\n",
              "\n",
              "        async function convertToInteractive(key) {\n",
              "          const element = document.querySelector('#df-fd94396e-491c-46fc-b3d5-054db4e7ec96');\n",
              "          const dataTable =\n",
              "            await google.colab.kernel.invokeFunction('convertToInteractive',\n",
              "                                                     [key], {});\n",
              "          if (!dataTable) return;\n",
              "\n",
              "          const docLinkHtml = 'Like what you see? Visit the ' +\n",
              "            '<a target=\"_blank\" href=https://colab.research.google.com/notebooks/data_table.ipynb>data table notebook</a>'\n",
              "            + ' to learn more about interactive tables.';\n",
              "          element.innerHTML = '';\n",
              "          dataTable['output_type'] = 'display_data';\n",
              "          await google.colab.output.renderOutput(dataTable, element);\n",
              "          const docLink = document.createElement('div');\n",
              "          docLink.innerHTML = docLinkHtml;\n",
              "          element.appendChild(docLink);\n",
              "        }\n",
              "      </script>\n",
              "    </div>\n",
              "  </div>\n",
              "  "
            ]
          },
          "metadata": {},
          "execution_count": 2
        }
      ]
    },
    {
      "cell_type": "code",
      "source": [
        "# To get overall information about dataset.\n",
        "data.info()"
      ],
      "metadata": {
        "colab": {
          "base_uri": "https://localhost:8080/"
        },
        "id": "3bWI8ohtMkHD",
        "outputId": "6698a94b-957c-42e8-85d5-55a3f4260eed"
      },
      "execution_count": null,
      "outputs": [
        {
          "output_type": "stream",
          "name": "stdout",
          "text": [
            "<class 'pandas.core.frame.DataFrame'>\n",
            "RangeIndex: 50 entries, 0 to 49\n",
            "Data columns (total 4 columns):\n",
            " #   Column           Non-Null Count  Dtype  \n",
            "---  ------           --------------  -----  \n",
            " 0   R&D Spend        50 non-null     float64\n",
            " 1   Administration   50 non-null     float64\n",
            " 2   Marketing Spend  50 non-null     float64\n",
            " 3   Profit           50 non-null     float64\n",
            "dtypes: float64(4)\n",
            "memory usage: 1.7 KB\n"
          ]
        }
      ]
    },
    {
      "cell_type": "code",
      "source": [
        "# No null values are there in this dataset.\n",
        "data.isnull().sum()"
      ],
      "metadata": {
        "colab": {
          "base_uri": "https://localhost:8080/"
        },
        "id": "GjsLTqG2Mmca",
        "outputId": "8c9af940-18d8-462d-ad45-072c7f4551af"
      },
      "execution_count": null,
      "outputs": [
        {
          "output_type": "execute_result",
          "data": {
            "text/plain": [
              "R&D Spend          0\n",
              "Administration     0\n",
              "Marketing Spend    0\n",
              "Profit             0\n",
              "dtype: int64"
            ]
          },
          "metadata": {},
          "execution_count": 4
        }
      ]
    },
    {
      "cell_type": "code",
      "source": [
        "# checking the shape of data before removing duplicates\n",
        "data.shape"
      ],
      "metadata": {
        "colab": {
          "base_uri": "https://localhost:8080/"
        },
        "id": "qLyNvJjWMpBb",
        "outputId": "26b72e21-a8f5-40e5-8c9f-92ad3fbd392d"
      },
      "execution_count": null,
      "outputs": [
        {
          "output_type": "execute_result",
          "data": {
            "text/plain": [
              "(50, 4)"
            ]
          },
          "metadata": {},
          "execution_count": 5
        }
      ]
    },
    {
      "cell_type": "code",
      "source": [
        "# removing duplicates from this dataset\n",
        "data.drop_duplicates(keep=\"first\",inplace= True)"
      ],
      "metadata": {
        "id": "ryaiRxn0MqrV"
      },
      "execution_count": null,
      "outputs": []
    },
    {
      "cell_type": "code",
      "source": [
        "# checking the shape of data after removing duplicates\n",
        "data.shape"
      ],
      "metadata": {
        "colab": {
          "base_uri": "https://localhost:8080/"
        },
        "id": "TijSfdUsMsNW",
        "outputId": "c2d31eac-3afc-46b5-f999-80dc375f76df"
      },
      "execution_count": null,
      "outputs": [
        {
          "output_type": "execute_result",
          "data": {
            "text/plain": [
              "(50, 4)"
            ]
          },
          "metadata": {},
          "execution_count": 7
        }
      ]
    },
    {
      "cell_type": "code",
      "source": [
        "# statistical description of the data.\n",
        "data.describe().T"
      ],
      "metadata": {
        "colab": {
          "base_uri": "https://localhost:8080/",
          "height": 175
        },
        "id": "eZOtfWv5Mt3N",
        "outputId": "3206d630-2b0e-42a6-dc42-a6a5655b8593"
      },
      "execution_count": null,
      "outputs": [
        {
          "output_type": "execute_result",
          "data": {
            "text/plain": [
              "                 count         mean            std       min          25%  \\\n",
              "R&D Spend         50.0   73721.6156   45902.256482      0.00   39936.3700   \n",
              "Administration    50.0  121344.6396   28017.802755  51283.14  103730.8750   \n",
              "Marketing Spend   50.0  211025.0978  122290.310726      0.00  129300.1325   \n",
              "Profit            50.0  112012.6392   40306.180338  14681.40   90138.9025   \n",
              "\n",
              "                        50%          75%        max  \n",
              "R&D Spend         73051.080  101602.8000  165349.20  \n",
              "Administration   122699.795  144842.1800  182645.56  \n",
              "Marketing Spend  212716.240  299469.0850  471784.10  \n",
              "Profit           107978.190  139765.9775  192261.83  "
            ],
            "text/html": [
              "\n",
              "  <div id=\"df-aca57ff6-987d-475a-b578-9c80eed3886f\">\n",
              "    <div class=\"colab-df-container\">\n",
              "      <div>\n",
              "<style scoped>\n",
              "    .dataframe tbody tr th:only-of-type {\n",
              "        vertical-align: middle;\n",
              "    }\n",
              "\n",
              "    .dataframe tbody tr th {\n",
              "        vertical-align: top;\n",
              "    }\n",
              "\n",
              "    .dataframe thead th {\n",
              "        text-align: right;\n",
              "    }\n",
              "</style>\n",
              "<table border=\"1\" class=\"dataframe\">\n",
              "  <thead>\n",
              "    <tr style=\"text-align: right;\">\n",
              "      <th></th>\n",
              "      <th>count</th>\n",
              "      <th>mean</th>\n",
              "      <th>std</th>\n",
              "      <th>min</th>\n",
              "      <th>25%</th>\n",
              "      <th>50%</th>\n",
              "      <th>75%</th>\n",
              "      <th>max</th>\n",
              "    </tr>\n",
              "  </thead>\n",
              "  <tbody>\n",
              "    <tr>\n",
              "      <th>R&amp;D Spend</th>\n",
              "      <td>50.0</td>\n",
              "      <td>73721.6156</td>\n",
              "      <td>45902.256482</td>\n",
              "      <td>0.00</td>\n",
              "      <td>39936.3700</td>\n",
              "      <td>73051.080</td>\n",
              "      <td>101602.8000</td>\n",
              "      <td>165349.20</td>\n",
              "    </tr>\n",
              "    <tr>\n",
              "      <th>Administration</th>\n",
              "      <td>50.0</td>\n",
              "      <td>121344.6396</td>\n",
              "      <td>28017.802755</td>\n",
              "      <td>51283.14</td>\n",
              "      <td>103730.8750</td>\n",
              "      <td>122699.795</td>\n",
              "      <td>144842.1800</td>\n",
              "      <td>182645.56</td>\n",
              "    </tr>\n",
              "    <tr>\n",
              "      <th>Marketing Spend</th>\n",
              "      <td>50.0</td>\n",
              "      <td>211025.0978</td>\n",
              "      <td>122290.310726</td>\n",
              "      <td>0.00</td>\n",
              "      <td>129300.1325</td>\n",
              "      <td>212716.240</td>\n",
              "      <td>299469.0850</td>\n",
              "      <td>471784.10</td>\n",
              "    </tr>\n",
              "    <tr>\n",
              "      <th>Profit</th>\n",
              "      <td>50.0</td>\n",
              "      <td>112012.6392</td>\n",
              "      <td>40306.180338</td>\n",
              "      <td>14681.40</td>\n",
              "      <td>90138.9025</td>\n",
              "      <td>107978.190</td>\n",
              "      <td>139765.9775</td>\n",
              "      <td>192261.83</td>\n",
              "    </tr>\n",
              "  </tbody>\n",
              "</table>\n",
              "</div>\n",
              "      <button class=\"colab-df-convert\" onclick=\"convertToInteractive('df-aca57ff6-987d-475a-b578-9c80eed3886f')\"\n",
              "              title=\"Convert this dataframe to an interactive table.\"\n",
              "              style=\"display:none;\">\n",
              "        \n",
              "  <svg xmlns=\"http://www.w3.org/2000/svg\" height=\"24px\"viewBox=\"0 0 24 24\"\n",
              "       width=\"24px\">\n",
              "    <path d=\"M0 0h24v24H0V0z\" fill=\"none\"/>\n",
              "    <path d=\"M18.56 5.44l.94 2.06.94-2.06 2.06-.94-2.06-.94-.94-2.06-.94 2.06-2.06.94zm-11 1L8.5 8.5l.94-2.06 2.06-.94-2.06-.94L8.5 2.5l-.94 2.06-2.06.94zm10 10l.94 2.06.94-2.06 2.06-.94-2.06-.94-.94-2.06-.94 2.06-2.06.94z\"/><path d=\"M17.41 7.96l-1.37-1.37c-.4-.4-.92-.59-1.43-.59-.52 0-1.04.2-1.43.59L10.3 9.45l-7.72 7.72c-.78.78-.78 2.05 0 2.83L4 21.41c.39.39.9.59 1.41.59.51 0 1.02-.2 1.41-.59l7.78-7.78 2.81-2.81c.8-.78.8-2.07 0-2.86zM5.41 20L4 18.59l7.72-7.72 1.47 1.35L5.41 20z\"/>\n",
              "  </svg>\n",
              "      </button>\n",
              "      \n",
              "  <style>\n",
              "    .colab-df-container {\n",
              "      display:flex;\n",
              "      flex-wrap:wrap;\n",
              "      gap: 12px;\n",
              "    }\n",
              "\n",
              "    .colab-df-convert {\n",
              "      background-color: #E8F0FE;\n",
              "      border: none;\n",
              "      border-radius: 50%;\n",
              "      cursor: pointer;\n",
              "      display: none;\n",
              "      fill: #1967D2;\n",
              "      height: 32px;\n",
              "      padding: 0 0 0 0;\n",
              "      width: 32px;\n",
              "    }\n",
              "\n",
              "    .colab-df-convert:hover {\n",
              "      background-color: #E2EBFA;\n",
              "      box-shadow: 0px 1px 2px rgba(60, 64, 67, 0.3), 0px 1px 3px 1px rgba(60, 64, 67, 0.15);\n",
              "      fill: #174EA6;\n",
              "    }\n",
              "\n",
              "    [theme=dark] .colab-df-convert {\n",
              "      background-color: #3B4455;\n",
              "      fill: #D2E3FC;\n",
              "    }\n",
              "\n",
              "    [theme=dark] .colab-df-convert:hover {\n",
              "      background-color: #434B5C;\n",
              "      box-shadow: 0px 1px 3px 1px rgba(0, 0, 0, 0.15);\n",
              "      filter: drop-shadow(0px 1px 2px rgba(0, 0, 0, 0.3));\n",
              "      fill: #FFFFFF;\n",
              "    }\n",
              "  </style>\n",
              "\n",
              "      <script>\n",
              "        const buttonEl =\n",
              "          document.querySelector('#df-aca57ff6-987d-475a-b578-9c80eed3886f button.colab-df-convert');\n",
              "        buttonEl.style.display =\n",
              "          google.colab.kernel.accessAllowed ? 'block' : 'none';\n",
              "\n",
              "        async function convertToInteractive(key) {\n",
              "          const element = document.querySelector('#df-aca57ff6-987d-475a-b578-9c80eed3886f');\n",
              "          const dataTable =\n",
              "            await google.colab.kernel.invokeFunction('convertToInteractive',\n",
              "                                                     [key], {});\n",
              "          if (!dataTable) return;\n",
              "\n",
              "          const docLinkHtml = 'Like what you see? Visit the ' +\n",
              "            '<a target=\"_blank\" href=https://colab.research.google.com/notebooks/data_table.ipynb>data table notebook</a>'\n",
              "            + ' to learn more about interactive tables.';\n",
              "          element.innerHTML = '';\n",
              "          dataTable['output_type'] = 'display_data';\n",
              "          await google.colab.output.renderOutput(dataTable, element);\n",
              "          const docLink = document.createElement('div');\n",
              "          docLink.innerHTML = docLinkHtml;\n",
              "          element.appendChild(docLink);\n",
              "        }\n",
              "      </script>\n",
              "    </div>\n",
              "  </div>\n",
              "  "
            ]
          },
          "metadata": {},
          "execution_count": 8
        }
      ]
    },
    {
      "cell_type": "code",
      "source": [
        "# Bivariate Analysis\n",
        "# plotting pairplot to check pairwise relationship between variables.\n",
        "sns.pairplot(data=data)\n",
        "plt.show()"
      ],
      "metadata": {
        "colab": {
          "base_uri": "https://localhost:8080/",
          "height": 1000
        },
        "id": "TBHAnIkEMvrq",
        "outputId": "b11c8b9c-2dfc-42bd-9ce7-15a8a5b4e2f9"
      },
      "execution_count": null,
      "outputs": [
        {
          "output_type": "display_data",
          "data": {
            "text/plain": [
              "<Figure size 1000x1000 with 20 Axes>"
            ],
            "image/png": "[encoded data removed]"
          },
          "metadata": {}
        }
      ]
    },
    {
      "cell_type": "code",
      "source": [
        "# plotting heatmap.\n",
        "sns.heatmap(data.corr(),annot=True)\n",
        "plt.show()"
      ],
      "metadata": {
        "colab": {
          "base_uri": "https://localhost:8080/",
          "height": 539
        },
        "id": "tn3DpFTVMzvt",
        "outputId": "b584ecad-a7a7-438e-aaa9-0bf2fab742b9"
      },
      "execution_count": null,
      "outputs": [
        {
          "output_type": "display_data",
          "data": {
            "text/plain": [
              "<Figure size 640x480 with 2 Axes>"
            ],
            "image/png": "[encoded data removed]"
          },
          "metadata": {}
        }
      ]
    },
    {
      "cell_type": "code",
      "source": [
        "plt.figure(figsize=(12, 6))\n",
        "sns.boxplot(data=data)\n",
        "plt.show()"
      ],
      "metadata": {
        "colab": {
          "base_uri": "https://localhost:8080/",
          "height": 522
        },
        "id": "M2M-HFZoNGwZ",
        "outputId": "529d3a19-0e67-43c7-a01d-d58b38450207"
      },
      "execution_count": null,
      "outputs": [
        {
          "output_type": "display_data",
          "data": {
            "text/plain": [
              "<Figure size 1200x600 with 1 Axes>"
            ],
            "image/png": "[encoded data removed]"
          },
          "metadata": {}
        }
      ]
    },
    {
      "cell_type": "code",
      "source": [
        "iqr=data[\"Profit\"].quantile(0.75)-data[\"Profit\"].quantile(0.25)\n",
        "print(iqr)"
      ],
      "metadata": {
        "colab": {
          "base_uri": "https://localhost:8080/"
        },
        "id": "FRUubnxUNJ0o",
        "outputId": "e59ff204-9049-40c3-a7e6-839f66bc5b9d"
      },
      "execution_count": null,
      "outputs": [
        {
          "output_type": "stream",
          "name": "stdout",
          "text": [
            "49627.07499999998\n"
          ]
        }
      ]
    },
    {
      "cell_type": "code",
      "source": [
        "up=data[\"Profit\"].quantile(0.75)+1.5*iqr\n",
        "down=data[\"Profit\"].quantile(0.25)-1.5*iqr\n",
        "\n",
        "print(up,down)"
      ],
      "metadata": {
        "colab": {
          "base_uri": "https://localhost:8080/"
        },
        "id": "7UiI0HazNMB0",
        "outputId": "d66e3b66-1ec9-4f7e-9476-561323b8d838"
      },
      "execution_count": null,
      "outputs": [
        {
          "output_type": "stream",
          "name": "stdout",
          "text": [
            "214206.58999999997 15698.290000000023\n"
          ]
        }
      ]
    },
    {
      "cell_type": "code",
      "source": [
        "outlier=[]\n",
        "profit=data[\"Profit\"]\n",
        "\n",
        "for i in profit:\n",
        "    if i>up:\n",
        "        outlier.append(i)\n",
        "        print(\"Up Outlier\",i)\n",
        "\n",
        "for i in profit:\n",
        "    if i<down:\n",
        "        outlier.append(i)\n",
        "        print(\"Down Outlier\",i)"
      ],
      "metadata": {
        "colab": {
          "base_uri": "https://localhost:8080/"
        },
        "id": "UDJkQUHINONR",
        "outputId": "6c4a691e-75e0-4ee4-8844-2823f2e81232"
      },
      "execution_count": null,
      "outputs": [
        {
          "output_type": "stream",
          "name": "stdout",
          "text": [
            "Down Outlier 14681.4\n"
          ]
        }
      ]
    },
    {
      "cell_type": "code",
      "source": [
        "data[\"Profit\"]=data[\"Profit\"].replace(outlier,data[\"Profit\"].mean())\n",
        "plt.figure(figsize=(12, 6))\n",
        "sns.boxplot(data=data)\n",
        "plt.show()\n"
      ],
      "metadata": {
        "colab": {
          "base_uri": "https://localhost:8080/",
          "height": 522
        },
        "id": "8xHUXbSHNQgU",
        "outputId": "174fe079-8a66-462a-a7d9-2b72ea5dc1f5"
      },
      "execution_count": null,
      "outputs": [
        {
          "output_type": "display_data",
          "data": {
            "text/plain": [
              "<Figure size 1200x600 with 1 Axes>"
            ],
            "image/png": "[encoded data removed]"
          },
          "metadata": {}
        }
      ]
    },
    {
      "cell_type": "code",
      "source": [
        "data.hist(figsize=(15,10),bins=5)\n",
        "plt.show()"
      ],
      "metadata": {
        "colab": {
          "base_uri": "https://localhost:8080/",
          "height": 705
        },
        "id": "g6szedmANTth",
        "outputId": "359315e3-ce04-40ec-efe4-a7f43d5a645a"
      },
      "execution_count": null,
      "outputs": [
        {
          "output_type": "display_data",
          "data": {
            "text/plain": [
              "<Figure size 1500x1000 with 4 Axes>"
            ],
            "image/png": "[encoded data removed]"
          },
          "metadata": {}
        }
      ]
    },
    {
      "cell_type": "markdown",
      "source": [
        "1. ***Splitting the data values into training and testing data ***"
      ],
      "metadata": {
        "id": "h69w2KolNatM"
      }
    },
    {
      "cell_type": "code",
      "source": [
        "features=data.iloc[:,:-1]\n",
        "target=data.iloc[:,-1]\n",
        "features.head()"
      ],
      "metadata": {
        "colab": {
          "base_uri": "https://localhost:8080/",
          "height": 206
        },
        "id": "ZSqFVCgCNh1r",
        "outputId": "5a4d019b-c4f6-4e80-c14c-1972fa4d9de2"
      },
      "execution_count": null,
      "outputs": [
        {
          "output_type": "execute_result",
          "data": {
            "text/plain": [
              "   R&D Spend  Administration  Marketing Spend\n",
              "0  165349.20       136897.80        471784.10\n",
              "1  162597.70       151377.59        443898.53\n",
              "2  153441.51       101145.55        407934.54\n",
              "3  144372.41       118671.85        383199.62\n",
              "4  142107.34        91391.77        366168.42"
            ],
            "text/html": [
              "\n",
              "  <div id=\"df-b823a76a-b4cb-4683-a732-31f2a8ce3f28\">\n",
              "    <div class=\"colab-df-container\">\n",
              "      <div>\n",
              "<style scoped>\n",
              "    .dataframe tbody tr th:only-of-type {\n",
              "        vertical-align: middle;\n",
              "    }\n",
              "\n",
              "    .dataframe tbody tr th {\n",
              "        vertical-align: top;\n",
              "    }\n",
              "\n",
              "    .dataframe thead th {\n",
              "        text-align: right;\n",
              "    }\n",
              "</style>\n",
              "<table border=\"1\" class=\"dataframe\">\n",
              "  <thead>\n",
              "    <tr style=\"text-align: right;\">\n",
              "      <th></th>\n",
              "      <th>R&amp;D Spend</th>\n",
              "      <th>Administration</th>\n",
              "      <th>Marketing Spend</th>\n",
              "    </tr>\n",
              "  </thead>\n",
              "  <tbody>\n",
              "    <tr>\n",
              "      <th>0</th>\n",
              "      <td>165349.20</td>\n",
              "      <td>136897.80</td>\n",
              "      <td>471784.10</td>\n",
              "    </tr>\n",
              "    <tr>\n",
              "      <th>1</th>\n",
              "      <td>162597.70</td>\n",
              "      <td>151377.59</td>\n",
              "      <td>443898.53</td>\n",
              "    </tr>\n",
              "    <tr>\n",
              "      <th>2</th>\n",
              "      <td>153441.51</td>\n",
              "      <td>101145.55</td>\n",
              "      <td>407934.54</td>\n",
              "    </tr>\n",
              "    <tr>\n",
              "      <th>3</th>\n",
              "      <td>144372.41</td>\n",
              "      <td>118671.85</td>\n",
              "      <td>383199.62</td>\n",
              "    </tr>\n",
              "    <tr>\n",
              "      <th>4</th>\n",
              "      <td>142107.34</td>\n",
              "      <td>91391.77</td>\n",
              "      <td>366168.42</td>\n",
              "    </tr>\n",
              "  </tbody>\n",
              "</table>\n",
              "</div>\n",
              "      <button class=\"colab-df-convert\" onclick=\"convertToInteractive('df-b823a76a-b4cb-4683-a732-31f2a8ce3f28')\"\n",
              "              title=\"Convert this dataframe to an interactive table.\"\n",
              "              style=\"display:none;\">\n",
              "        \n",
              "  <svg xmlns=\"http://www.w3.org/2000/svg\" height=\"24px\"viewBox=\"0 0 24 24\"\n",
              "       width=\"24px\">\n",
              "    <path d=\"M0 0h24v24H0V0z\" fill=\"none\"/>\n",
              "    <path d=\"M18.56 5.44l.94 2.06.94-2.06 2.06-.94-2.06-.94-.94-2.06-.94 2.06-2.06.94zm-11 1L8.5 8.5l.94-2.06 2.06-.94-2.06-.94L8.5 2.5l-.94 2.06-2.06.94zm10 10l.94 2.06.94-2.06 2.06-.94-2.06-.94-.94-2.06-.94 2.06-2.06.94z\"/><path d=\"M17.41 7.96l-1.37-1.37c-.4-.4-.92-.59-1.43-.59-.52 0-1.04.2-1.43.59L10.3 9.45l-7.72 7.72c-.78.78-.78 2.05 0 2.83L4 21.41c.39.39.9.59 1.41.59.51 0 1.02-.2 1.41-.59l7.78-7.78 2.81-2.81c.8-.78.8-2.07 0-2.86zM5.41 20L4 18.59l7.72-7.72 1.47 1.35L5.41 20z\"/>\n",
              "  </svg>\n",
              "      </button>\n",
              "      \n",
              "  <style>\n",
              "    .colab-df-container {\n",
              "      display:flex;\n",
              "      flex-wrap:wrap;\n",
              "      gap: 12px;\n",
              "    }\n",
              "\n",
              "    .colab-df-convert {\n",
              "      background-color: #E8F0FE;\n",
              "      border: none;\n",
              "      border-radius: 50%;\n",
              "      cursor: pointer;\n",
              "      display: none;\n",
              "      fill: #1967D2;\n",
              "      height: 32px;\n",
              "      padding: 0 0 0 0;\n",
              "      width: 32px;\n",
              "    }\n",
              "\n",
              "    .colab-df-convert:hover {\n",
              "      background-color: #E2EBFA;\n",
              "      box-shadow: 0px 1px 2px rgba(60, 64, 67, 0.3), 0px 1px 3px 1px rgba(60, 64, 67, 0.15);\n",
              "      fill: #174EA6;\n",
              "    }\n",
              "\n",
              "    [theme=dark] .colab-df-convert {\n",
              "      background-color: #3B4455;\n",
              "      fill: #D2E3FC;\n",
              "    }\n",
              "\n",
              "    [theme=dark] .colab-df-convert:hover {\n",
              "      background-color: #434B5C;\n",
              "      box-shadow: 0px 1px 3px 1px rgba(0, 0, 0, 0.15);\n",
              "      filter: drop-shadow(0px 1px 2px rgba(0, 0, 0, 0.3));\n",
              "      fill: #FFFFFF;\n",
              "    }\n",
              "  </style>\n",
              "\n",
              "      <script>\n",
              "        const buttonEl =\n",
              "          document.querySelector('#df-b823a76a-b4cb-4683-a732-31f2a8ce3f28 button.colab-df-convert');\n",
              "        buttonEl.style.display =\n",
              "          google.colab.kernel.accessAllowed ? 'block' : 'none';\n",
              "\n",
              "        async function convertToInteractive(key) {\n",
              "          const element = document.querySelector('#df-b823a76a-b4cb-4683-a732-31f2a8ce3f28');\n",
              "          const dataTable =\n",
              "            await google.colab.kernel.invokeFunction('convertToInteractive',\n",
              "                                                     [key], {});\n",
              "          if (!dataTable) return;\n",
              "\n",
              "          const docLinkHtml = 'Like what you see? Visit the ' +\n",
              "            '<a target=\"_blank\" href=https://colab.research.google.com/notebooks/data_table.ipynb>data table notebook</a>'\n",
              "            + ' to learn more about interactive tables.';\n",
              "          element.innerHTML = '';\n",
              "          dataTable['output_type'] = 'display_data';\n",
              "          await google.colab.output.renderOutput(dataTable, element);\n",
              "          const docLink = document.createElement('div');\n",
              "          docLink.innerHTML = docLinkHtml;\n",
              "          element.appendChild(docLink);\n",
              "        }\n",
              "      </script>\n",
              "    </div>\n",
              "  </div>\n",
              "  "
            ]
          },
          "metadata": {},
          "execution_count": 17
        }
      ]
    },
    {
      "cell_type": "code",
      "source": [
        "target.head()"
      ],
      "metadata": {
        "colab": {
          "base_uri": "https://localhost:8080/"
        },
        "id": "zVRkmz0qNj5g",
        "outputId": "422b00b0-04de-4a63-b3c3-cc85f84402e0"
      },
      "execution_count": null,
      "outputs": [
        {
          "output_type": "execute_result",
          "data": {
            "text/plain": [
              "0    192261.83\n",
              "1    191792.06\n",
              "2    191050.39\n",
              "3    182901.99\n",
              "4    166187.94\n",
              "Name: Profit, dtype: float64"
            ]
          },
          "metadata": {},
          "execution_count": 18
        }
      ]
    },
    {
      "cell_type": "code",
      "source": [
        "from sklearn.model_selection import train_test_split\n",
        "xtrain,xtest,ytrain,ytest=train_test_split(features,target,test_size=0.25,random_state=0)"
      ],
      "metadata": {
        "id": "DFps610UN0SO"
      },
      "execution_count": null,
      "outputs": []
    },
    {
      "cell_type": "code",
      "source": [
        "from sklearn.linear_model import LinearRegression\n",
        "lr=LinearRegression()\n",
        "lr.fit(xtrain,ytrain)\n",
        "ypred=lr.predict(xtest)"
      ],
      "metadata": {
        "id": "Gg3tWYY7OD8q"
      },
      "execution_count": null,
      "outputs": []
    },
    {
      "cell_type": "code",
      "source": [
        "lr.coef_"
      ],
      "metadata": {
        "colab": {
          "base_uri": "https://localhost:8080/"
        },
        "id": "ga3DEMWfOGli",
        "outputId": "e92d602b-1796-45bb-f341-653d8a4cffee"
      },
      "execution_count": null,
      "outputs": [
        {
          "output_type": "execute_result",
          "data": {
            "text/plain": [
              "array([0.70311246, 0.06615566, 0.02861543])"
            ]
          },
          "metadata": {},
          "execution_count": 21
        }
      ]
    },
    {
      "cell_type": "code",
      "source": [
        "pd.DataFrame(lr.coef_,index=features.columns,columns=[\"Coefficients\"])"
      ],
      "metadata": {
        "colab": {
          "base_uri": "https://localhost:8080/",
          "height": 143
        },
        "id": "Lnopk8RzOIzZ",
        "outputId": "26ec4a29-4c8f-4b65-cf92-1889a7a3214c"
      },
      "execution_count": null,
      "outputs": [
        {
          "output_type": "execute_result",
          "data": {
            "text/plain": [
              "                 Coefficients\n",
              "R&D Spend            0.703112\n",
              "Administration       0.066156\n",
              "Marketing Spend      0.028615"
            ],
            "text/html": [
              "\n",
              "  <div id=\"df-39b64916-3fc1-4b5b-ba16-73278dfecef3\">\n",
              "    <div class=\"colab-df-container\">\n",
              "      <div>\n",
              "<style scoped>\n",
              "    .dataframe tbody tr th:only-of-type {\n",
              "        vertical-align: middle;\n",
              "    }\n",
              "\n",
              "    .dataframe tbody tr th {\n",
              "        vertical-align: top;\n",
              "    }\n",
              "\n",
              "    .dataframe thead th {\n",
              "        text-align: right;\n",
              "    }\n",
              "</style>\n",
              "<table border=\"1\" class=\"dataframe\">\n",
              "  <thead>\n",
              "    <tr style=\"text-align: right;\">\n",
              "      <th></th>\n",
              "      <th>Coefficients</th>\n",
              "    </tr>\n",
              "  </thead>\n",
              "  <tbody>\n",
              "    <tr>\n",
              "      <th>R&amp;D Spend</th>\n",
              "      <td>0.703112</td>\n",
              "    </tr>\n",
              "    <tr>\n",
              "      <th>Administration</th>\n",
              "      <td>0.066156</td>\n",
              "    </tr>\n",
              "    <tr>\n",
              "      <th>Marketing Spend</th>\n",
              "      <td>0.028615</td>\n",
              "    </tr>\n",
              "  </tbody>\n",
              "</table>\n",
              "</div>\n",
              "      <button class=\"colab-df-convert\" onclick=\"convertToInteractive('df-39b64916-3fc1-4b5b-ba16-73278dfecef3')\"\n",
              "              title=\"Convert this dataframe to an interactive table.\"\n",
              "              style=\"display:none;\">\n",
              "        \n",
              "  <svg xmlns=\"http://www.w3.org/2000/svg\" height=\"24px\"viewBox=\"0 0 24 24\"\n",
              "       width=\"24px\">\n",
              "    <path d=\"M0 0h24v24H0V0z\" fill=\"none\"/>\n",
              "    <path d=\"M18.56 5.44l.94 2.06.94-2.06 2.06-.94-2.06-.94-.94-2.06-.94 2.06-2.06.94zm-11 1L8.5 8.5l.94-2.06 2.06-.94-2.06-.94L8.5 2.5l-.94 2.06-2.06.94zm10 10l.94 2.06.94-2.06 2.06-.94-2.06-.94-.94-2.06-.94 2.06-2.06.94z\"/><path d=\"M17.41 7.96l-1.37-1.37c-.4-.4-.92-.59-1.43-.59-.52 0-1.04.2-1.43.59L10.3 9.45l-7.72 7.72c-.78.78-.78 2.05 0 2.83L4 21.41c.39.39.9.59 1.41.59.51 0 1.02-.2 1.41-.59l7.78-7.78 2.81-2.81c.8-.78.8-2.07 0-2.86zM5.41 20L4 18.59l7.72-7.72 1.47 1.35L5.41 20z\"/>\n",
              "  </svg>\n",
              "      </button>\n",
              "      \n",
              "  <style>\n",
              "    .colab-df-container {\n",
              "      display:flex;\n",
              "      flex-wrap:wrap;\n",
              "      gap: 12px;\n",
              "    }\n",
              "\n",
              "    .colab-df-convert {\n",
              "      background-color: #E8F0FE;\n",
              "      border: none;\n",
              "      border-radius: 50%;\n",
              "      cursor: pointer;\n",
              "      display: none;\n",
              "      fill: #1967D2;\n",
              "      height: 32px;\n",
              "      padding: 0 0 0 0;\n",
              "      width: 32px;\n",
              "    }\n",
              "\n",
              "    .colab-df-convert:hover {\n",
              "      background-color: #E2EBFA;\n",
              "      box-shadow: 0px 1px 2px rgba(60, 64, 67, 0.3), 0px 1px 3px 1px rgba(60, 64, 67, 0.15);\n",
              "      fill: #174EA6;\n",
              "    }\n",
              "\n",
              "    [theme=dark] .colab-df-convert {\n",
              "      background-color: #3B4455;\n",
              "      fill: #D2E3FC;\n",
              "    }\n",
              "\n",
              "    [theme=dark] .colab-df-convert:hover {\n",
              "      background-color: #434B5C;\n",
              "      box-shadow: 0px 1px 3px 1px rgba(0, 0, 0, 0.15);\n",
              "      filter: drop-shadow(0px 1px 2px rgba(0, 0, 0, 0.3));\n",
              "      fill: #FFFFFF;\n",
              "    }\n",
              "  </style>\n",
              "\n",
              "      <script>\n",
              "        const buttonEl =\n",
              "          document.querySelector('#df-39b64916-3fc1-4b5b-ba16-73278dfecef3 button.colab-df-convert');\n",
              "        buttonEl.style.display =\n",
              "          google.colab.kernel.accessAllowed ? 'block' : 'none';\n",
              "\n",
              "        async function convertToInteractive(key) {\n",
              "          const element = document.querySelector('#df-39b64916-3fc1-4b5b-ba16-73278dfecef3');\n",
              "          const dataTable =\n",
              "            await google.colab.kernel.invokeFunction('convertToInteractive',\n",
              "                                                     [key], {});\n",
              "          if (!dataTable) return;\n",
              "\n",
              "          const docLinkHtml = 'Like what you see? Visit the ' +\n",
              "            '<a target=\"_blank\" href=https://colab.research.google.com/notebooks/data_table.ipynb>data table notebook</a>'\n",
              "            + ' to learn more about interactive tables.';\n",
              "          element.innerHTML = '';\n",
              "          dataTable['output_type'] = 'display_data';\n",
              "          await google.colab.output.renderOutput(dataTable, element);\n",
              "          const docLink = document.createElement('div');\n",
              "          docLink.innerHTML = docLinkHtml;\n",
              "          element.appendChild(docLink);\n",
              "        }\n",
              "      </script>\n",
              "    </div>\n",
              "  </div>\n",
              "  "
            ]
          },
          "metadata": {},
          "execution_count": 22
        }
      ]
    },
    {
      "cell_type": "code",
      "source": [
        "from sklearn.metrics import mean_squared_error,mean_absolute_error,r2_score\n",
        "print(mean_squared_error(ytest,ypred))\n",
        "print(mean_absolute_error(ytest,ypred))\n",
        "print(r2_score(ytest,ypred))"
      ],
      "metadata": {
        "colab": {
          "base_uri": "https://localhost:8080/"
        },
        "id": "XHLQZtLmOKfv",
        "outputId": "33f46c32-5841-4472-80da-ffe754b296c2"
      },
      "execution_count": null,
      "outputs": [
        {
          "output_type": "stream",
          "name": "stdout",
          "text": [
            "82303654.55904746\n",
            "7755.038566102813\n",
            "0.9237075820048144\n"
          ]
        }
      ]
    },
    {
      "cell_type": "code",
      "source": [
        "tr=lr.score(xtrain,ytrain)\n",
        "te=lr.score(xtest,ytest)\n",
        "print(\"Traning accuracy\",tr)\n",
        "print(\"Testing accuracy\",te)"
      ],
      "metadata": {
        "colab": {
          "base_uri": "https://localhost:8080/"
        },
        "id": "tsvVFAPlOOmw",
        "outputId": "ab632e6b-52c9-4525-c207-d8fdc7e321ef"
      },
      "execution_count": null,
      "outputs": [
        {
          "output_type": "stream",
          "name": "stdout",
          "text": [
            "Traning accuracy 0.9042770925079766\n",
            "Testing accuracy 0.9237075820048144\n"
          ]
        }
      ]
    },
    {
      "cell_type": "code",
      "source": [
        "sns.distplot(ytest-ypred)"
      ],
      "metadata": {
        "colab": {
          "base_uri": "https://localhost:8080/",
          "height": 483
        },
        "id": "jQ9zTSd-OQU1",
        "outputId": "5f6428a2-7f34-409d-d10f-94554a9b96e3"
      },
      "execution_count": null,
      "outputs": [
        {
          "output_type": "execute_result",
          "data": {
            "text/plain": [
              "<Axes: xlabel='Profit', ylabel='Density'>"
            ]
          },
          "metadata": {},
          "execution_count": 25
        },
        {
          "output_type": "display_data",
          "data": {
            "text/plain": [
              "<Figure size 640x480 with 1 Axes>"
            ],
            "image/png": "[encoded data removed]"
          },
          "metadata": {}
        }
      ]
    },
    {
      "cell_type": "code",
      "source": [
        "plt.scatter(ytest,ypred)"
      ],
      "metadata": {
        "colab": {
          "base_uri": "https://localhost:8080/",
          "height": 448
        },
        "id": "0s3w4cAeOR7k",
        "outputId": "5c3fd1ca-4607-4368-8c14-30f8bd7be271"
      },
      "execution_count": null,
      "outputs": [
        {
          "output_type": "execute_result",
          "data": {
            "text/plain": [
              "<matplotlib.collections.PathCollection at 0x7f28765bde70>"
            ]
          },
          "metadata": {},
          "execution_count": 26
        },
        {
          "output_type": "display_data",
          "data": {
            "text/plain": [
              "<Figure size 640x480 with 1 Axes>"
            ],
            "image/png": "[encoded data removed]"
          },
          "metadata": {}
        }
      ]
    },
    {
      "cell_type": "code",
      "source": [
        "import numpy as np\n",
        "import pandas as pd\n",
        "import seaborn as sns\n",
        "import matplotlib.pyplot as plt\n",
        "%matplotlib inline\n",
        "\n",
        "import warnings\n",
        "warnings.filterwarnings(\"ignore\")"
      ],
      "metadata": {
        "id": "Y-zDDYPzOT8z"
      },
      "execution_count": null,
      "outputs": []
    },
    {
      "cell_type": "code",
      "source": [
        "import plotly.express as px\n",
        "import plotly.graph_objects as go\n",
        "from PIL import Image\n",
        "from IPython.display import Image\n",
        "from wordcloud import WordCloud, STOPWORDS\n",
        "\n",
        "from sklearn.metrics import mean_absolute_error\n",
        "from sklearn.metrics import mean_squared_error"
      ],
      "metadata": {
        "id": "jHvfnXn9OY-3"
      },
      "execution_count": null,
      "outputs": []
    },
    {
      "cell_type": "code",
      "source": [
        "import seaborn as sns\n",
        "sns.set_theme(context='notebook',\n",
        "              style='whitegrid',\n",
        "              palette='seismic',\n",
        "              font='Lucida Calligraphy',\n",
        "              font_scale=1.5,\n",
        "              rc=None)\n",
        "import matplotlib\n",
        "matplotlib.rcParams['figure.figsize'] = [8, 8]\n",
        "matplotlib.rcParams.update({'font.size': 15})"
      ],
      "metadata": {
        "id": "-dMBklaBObM3"
      },
      "execution_count": null,
      "outputs": []
    },
    {
      "cell_type": "code",
      "source": [
        "pd.set_option('display.max_columns',None)\n",
        "pd.set_option('display.max_rows',None)"
      ],
      "metadata": {
        "id": "z-PhSj2vOdMm"
      },
      "execution_count": null,
      "outputs": []
    },
    {
      "cell_type": "code",
      "source": [
        "companies = pd.read_csv(\"50_Startups (3).csv\")\n",
        "companies.head(2)"
      ],
      "metadata": {
        "colab": {
          "base_uri": "https://localhost:8080/",
          "height": 112
        },
        "id": "N_gLgNqgPCLh",
        "outputId": "0f1747a4-62fa-49c8-9146-26d54949d7c3"
      },
      "execution_count": null,
      "outputs": [
        {
          "output_type": "execute_result",
          "data": {
            "text/plain": [
              "   R&D Spend  Administration  Marketing Spend     Profit\n",
              "0   165349.2       136897.80        471784.10  192261.83\n",
              "1   162597.7       151377.59        443898.53  191792.06"
            ],
            "text/html": [
              "\n",
              "  <div id=\"df-49aa015c-0ff9-4331-9089-635a64e7937e\">\n",
              "    <div class=\"colab-df-container\">\n",
              "      <div>\n",
              "<style scoped>\n",
              "    .dataframe tbody tr th:only-of-type {\n",
              "        vertical-align: middle;\n",
              "    }\n",
              "\n",
              "    .dataframe tbody tr th {\n",
              "        vertical-align: top;\n",
              "    }\n",
              "\n",
              "    .dataframe thead th {\n",
              "        text-align: right;\n",
              "    }\n",
              "</style>\n",
              "<table border=\"1\" class=\"dataframe\">\n",
              "  <thead>\n",
              "    <tr style=\"text-align: right;\">\n",
              "      <th></th>\n",
              "      <th>R&amp;D Spend</th>\n",
              "      <th>Administration</th>\n",
              "      <th>Marketing Spend</th>\n",
              "      <th>Profit</th>\n",
              "    </tr>\n",
              "  </thead>\n",
              "  <tbody>\n",
              "    <tr>\n",
              "      <th>0</th>\n",
              "      <td>165349.2</td>\n",
              "      <td>136897.80</td>\n",
              "      <td>471784.10</td>\n",
              "      <td>192261.83</td>\n",
              "    </tr>\n",
              "    <tr>\n",
              "      <th>1</th>\n",
              "      <td>162597.7</td>\n",
              "      <td>151377.59</td>\n",
              "      <td>443898.53</td>\n",
              "      <td>191792.06</td>\n",
              "    </tr>\n",
              "  </tbody>\n",
              "</table>\n",
              "</div>\n",
              "      <button class=\"colab-df-convert\" onclick=\"convertToInteractive('df-49aa015c-0ff9-4331-9089-635a64e7937e')\"\n",
              "              title=\"Convert this dataframe to an interactive table.\"\n",
              "              style=\"display:none;\">\n",
              "        \n",
              "  <svg xmlns=\"http://www.w3.org/2000/svg\" height=\"24px\"viewBox=\"0 0 24 24\"\n",
              "       width=\"24px\">\n",
              "    <path d=\"M0 0h24v24H0V0z\" fill=\"none\"/>\n",
              "    <path d=\"M18.56 5.44l.94 2.06.94-2.06 2.06-.94-2.06-.94-.94-2.06-.94 2.06-2.06.94zm-11 1L8.5 8.5l.94-2.06 2.06-.94-2.06-.94L8.5 2.5l-.94 2.06-2.06.94zm10 10l.94 2.06.94-2.06 2.06-.94-2.06-.94-.94-2.06-.94 2.06-2.06.94z\"/><path d=\"M17.41 7.96l-1.37-1.37c-.4-.4-.92-.59-1.43-.59-.52 0-1.04.2-1.43.59L10.3 9.45l-7.72 7.72c-.78.78-.78 2.05 0 2.83L4 21.41c.39.39.9.59 1.41.59.51 0 1.02-.2 1.41-.59l7.78-7.78 2.81-2.81c.8-.78.8-2.07 0-2.86zM5.41 20L4 18.59l7.72-7.72 1.47 1.35L5.41 20z\"/>\n",
              "  </svg>\n",
              "      </button>\n",
              "      \n",
              "  <style>\n",
              "    .colab-df-container {\n",
              "      display:flex;\n",
              "      flex-wrap:wrap;\n",
              "      gap: 12px;\n",
              "    }\n",
              "\n",
              "    .colab-df-convert {\n",
              "      background-color: #E8F0FE;\n",
              "      border: none;\n",
              "      border-radius: 50%;\n",
              "      cursor: pointer;\n",
              "      display: none;\n",
              "      fill: #1967D2;\n",
              "      height: 32px;\n",
              "      padding: 0 0 0 0;\n",
              "      width: 32px;\n",
              "    }\n",
              "\n",
              "    .colab-df-convert:hover {\n",
              "      background-color: #E2EBFA;\n",
              "      box-shadow: 0px 1px 2px rgba(60, 64, 67, 0.3), 0px 1px 3px 1px rgba(60, 64, 67, 0.15);\n",
              "      fill: #174EA6;\n",
              "    }\n",
              "\n",
              "    [theme=dark] .colab-df-convert {\n",
              "      background-color: #3B4455;\n",
              "      fill: #D2E3FC;\n",
              "    }\n",
              "\n",
              "    [theme=dark] .colab-df-convert:hover {\n",
              "      background-color: #434B5C;\n",
              "      box-shadow: 0px 1px 3px 1px rgba(0, 0, 0, 0.15);\n",
              "      filter: drop-shadow(0px 1px 2px rgba(0, 0, 0, 0.3));\n",
              "      fill: #FFFFFF;\n",
              "    }\n",
              "  </style>\n",
              "\n",
              "      <script>\n",
              "        const buttonEl =\n",
              "          document.querySelector('#df-49aa015c-0ff9-4331-9089-635a64e7937e button.colab-df-convert');\n",
              "        buttonEl.style.display =\n",
              "          google.colab.kernel.accessAllowed ? 'block' : 'none';\n",
              "\n",
              "        async function convertToInteractive(key) {\n",
              "          const element = document.querySelector('#df-49aa015c-0ff9-4331-9089-635a64e7937e');\n",
              "          const dataTable =\n",
              "            await google.colab.kernel.invokeFunction('convertToInteractive',\n",
              "                                                     [key], {});\n",
              "          if (!dataTable) return;\n",
              "\n",
              "          const docLinkHtml = 'Like what you see? Visit the ' +\n",
              "            '<a target=\"_blank\" href=https://colab.research.google.com/notebooks/data_table.ipynb>data table notebook</a>'\n",
              "            + ' to learn more about interactive tables.';\n",
              "          element.innerHTML = '';\n",
              "          dataTable['output_type'] = 'display_data';\n",
              "          await google.colab.output.renderOutput(dataTable, element);\n",
              "          const docLink = document.createElement('div');\n",
              "          docLink.innerHTML = docLinkHtml;\n",
              "          element.appendChild(docLink);\n",
              "        }\n",
              "      </script>\n",
              "    </div>\n",
              "  </div>\n",
              "  "
            ]
          },
          "metadata": {},
          "execution_count": 31
        }
      ]
    },
    {
      "cell_type": "code",
      "source": [
        "print(f'\\033[96m')\n",
        "print(companies.shape)\n",
        "print(companies.size)"
      ],
      "metadata": {
        "colab": {
          "base_uri": "https://localhost:8080/"
        },
        "id": "e6I35d69Pl_z",
        "outputId": "db99abba-13c9-44e6-c995-1f101461bbf6"
      },
      "execution_count": null,
      "outputs": [
        {
          "output_type": "stream",
          "name": "stdout",
          "text": [
            "\u001b[96m\n",
            "(50, 4)\n",
            "200\n"
          ]
        }
      ]
    },
    {
      "cell_type": "code",
      "source": [
        "print(f'\\033[95m')\n",
        "companies.info()"
      ],
      "metadata": {
        "colab": {
          "base_uri": "https://localhost:8080/"
        },
        "id": "p4WvLBHMPoBM",
        "outputId": "8642aa9b-f348-437d-d86d-9e15cf0f7e30"
      },
      "execution_count": null,
      "outputs": [
        {
          "output_type": "stream",
          "name": "stdout",
          "text": [
            "\u001b[95m\n",
            "<class 'pandas.core.frame.DataFrame'>\n",
            "RangeIndex: 50 entries, 0 to 49\n",
            "Data columns (total 4 columns):\n",
            " #   Column           Non-Null Count  Dtype  \n",
            "---  ------           --------------  -----  \n",
            " 0   R&D Spend        50 non-null     float64\n",
            " 1   Administration   50 non-null     float64\n",
            " 2   Marketing Spend  50 non-null     float64\n",
            " 3   Profit           50 non-null     float64\n",
            "dtypes: float64(4)\n",
            "memory usage: 1.7 KB\n"
          ]
        }
      ]
    },
    {
      "cell_type": "code",
      "source": [
        "companies.isnull().sum()"
      ],
      "metadata": {
        "colab": {
          "base_uri": "https://localhost:8080/"
        },
        "id": "TLiqDIxjPtXp",
        "outputId": "bd179c67-b7ad-41a4-9fb0-76357f391dbd"
      },
      "execution_count": null,
      "outputs": [
        {
          "output_type": "execute_result",
          "data": {
            "text/plain": [
              "R&D Spend          0\n",
              "Administration     0\n",
              "Marketing Spend    0\n",
              "Profit             0\n",
              "dtype: int64"
            ]
          },
          "metadata": {},
          "execution_count": 34
        }
      ]
    },
    {
      "cell_type": "code",
      "source": [
        "companies.describe()"
      ],
      "metadata": {
        "colab": {
          "base_uri": "https://localhost:8080/",
          "height": 300
        },
        "id": "v1JjaMbCPvTA",
        "outputId": "cfa22081-1291-4dc8-fc00-19e87b7a5e2f"
      },
      "execution_count": null,
      "outputs": [
        {
          "output_type": "execute_result",
          "data": {
            "text/plain": [
              "           R&D Spend  Administration  Marketing Spend         Profit\n",
              "count      50.000000       50.000000        50.000000      50.000000\n",
              "mean    73721.615600   121344.639600    211025.097800  112012.639200\n",
              "std     45902.256482    28017.802755    122290.310726   40306.180338\n",
              "min         0.000000    51283.140000         0.000000   14681.400000\n",
              "25%     39936.370000   103730.875000    129300.132500   90138.902500\n",
              "50%     73051.080000   122699.795000    212716.240000  107978.190000\n",
              "75%    101602.800000   144842.180000    299469.085000  139765.977500\n",
              "max    165349.200000   182645.560000    471784.100000  192261.830000"
            ],
            "text/html": [
              "\n",
              "  <div id=\"df-647903a3-eff2-4509-ad92-6527b306e849\">\n",
              "    <div class=\"colab-df-container\">\n",
              "      <div>\n",
              "<style scoped>\n",
              "    .dataframe tbody tr th:only-of-type {\n",
              "        vertical-align: middle;\n",
              "    }\n",
              "\n",
              "    .dataframe tbody tr th {\n",
              "        vertical-align: top;\n",
              "    }\n",
              "\n",
              "    .dataframe thead th {\n",
              "        text-align: right;\n",
              "    }\n",
              "</style>\n",
              "<table border=\"1\" class=\"dataframe\">\n",
              "  <thead>\n",
              "    <tr style=\"text-align: right;\">\n",
              "      <th></th>\n",
              "      <th>R&amp;D Spend</th>\n",
              "      <th>Administration</th>\n",
              "      <th>Marketing Spend</th>\n",
              "      <th>Profit</th>\n",
              "    </tr>\n",
              "  </thead>\n",
              "  <tbody>\n",
              "    <tr>\n",
              "      <th>count</th>\n",
              "      <td>50.000000</td>\n",
              "      <td>50.000000</td>\n",
              "      <td>50.000000</td>\n",
              "      <td>50.000000</td>\n",
              "    </tr>\n",
              "    <tr>\n",
              "      <th>mean</th>\n",
              "      <td>73721.615600</td>\n",
              "      <td>121344.639600</td>\n",
              "      <td>211025.097800</td>\n",
              "      <td>112012.639200</td>\n",
              "    </tr>\n",
              "    <tr>\n",
              "      <th>std</th>\n",
              "      <td>45902.256482</td>\n",
              "      <td>28017.802755</td>\n",
              "      <td>122290.310726</td>\n",
              "      <td>40306.180338</td>\n",
              "    </tr>\n",
              "    <tr>\n",
              "      <th>min</th>\n",
              "      <td>0.000000</td>\n",
              "      <td>51283.140000</td>\n",
              "      <td>0.000000</td>\n",
              "      <td>14681.400000</td>\n",
              "    </tr>\n",
              "    <tr>\n",
              "      <th>25%</th>\n",
              "      <td>39936.370000</td>\n",
              "      <td>103730.875000</td>\n",
              "      <td>129300.132500</td>\n",
              "      <td>90138.902500</td>\n",
              "    </tr>\n",
              "    <tr>\n",
              "      <th>50%</th>\n",
              "      <td>73051.080000</td>\n",
              "      <td>122699.795000</td>\n",
              "      <td>212716.240000</td>\n",
              "      <td>107978.190000</td>\n",
              "    </tr>\n",
              "    <tr>\n",
              "      <th>75%</th>\n",
              "      <td>101602.800000</td>\n",
              "      <td>144842.180000</td>\n",
              "      <td>299469.085000</td>\n",
              "      <td>139765.977500</td>\n",
              "    </tr>\n",
              "    <tr>\n",
              "      <th>max</th>\n",
              "      <td>165349.200000</td>\n",
              "      <td>182645.560000</td>\n",
              "      <td>471784.100000</td>\n",
              "      <td>192261.830000</td>\n",
              "    </tr>\n",
              "  </tbody>\n",
              "</table>\n",
              "</div>\n",
              "      <button class=\"colab-df-convert\" onclick=\"convertToInteractive('df-647903a3-eff2-4509-ad92-6527b306e849')\"\n",
              "              title=\"Convert this dataframe to an interactive table.\"\n",
              "              style=\"display:none;\">\n",
              "        \n",
              "  <svg xmlns=\"http://www.w3.org/2000/svg\" height=\"24px\"viewBox=\"0 0 24 24\"\n",
              "       width=\"24px\">\n",
              "    <path d=\"M0 0h24v24H0V0z\" fill=\"none\"/>\n",
              "    <path d=\"M18.56 5.44l.94 2.06.94-2.06 2.06-.94-2.06-.94-.94-2.06-.94 2.06-2.06.94zm-11 1L8.5 8.5l.94-2.06 2.06-.94-2.06-.94L8.5 2.5l-.94 2.06-2.06.94zm10 10l.94 2.06.94-2.06 2.06-.94-2.06-.94-.94-2.06-.94 2.06-2.06.94z\"/><path d=\"M17.41 7.96l-1.37-1.37c-.4-.4-.92-.59-1.43-.59-.52 0-1.04.2-1.43.59L10.3 9.45l-7.72 7.72c-.78.78-.78 2.05 0 2.83L4 21.41c.39.39.9.59 1.41.59.51 0 1.02-.2 1.41-.59l7.78-7.78 2.81-2.81c.8-.78.8-2.07 0-2.86zM5.41 20L4 18.59l7.72-7.72 1.47 1.35L5.41 20z\"/>\n",
              "  </svg>\n",
              "      </button>\n",
              "      \n",
              "  <style>\n",
              "    .colab-df-container {\n",
              "      display:flex;\n",
              "      flex-wrap:wrap;\n",
              "      gap: 12px;\n",
              "    }\n",
              "\n",
              "    .colab-df-convert {\n",
              "      background-color: #E8F0FE;\n",
              "      border: none;\n",
              "      border-radius: 50%;\n",
              "      cursor: pointer;\n",
              "      display: none;\n",
              "      fill: #1967D2;\n",
              "      height: 32px;\n",
              "      padding: 0 0 0 0;\n",
              "      width: 32px;\n",
              "    }\n",
              "\n",
              "    .colab-df-convert:hover {\n",
              "      background-color: #E2EBFA;\n",
              "      box-shadow: 0px 1px 2px rgba(60, 64, 67, 0.3), 0px 1px 3px 1px rgba(60, 64, 67, 0.15);\n",
              "      fill: #174EA6;\n",
              "    }\n",
              "\n",
              "    [theme=dark] .colab-df-convert {\n",
              "      background-color: #3B4455;\n",
              "      fill: #D2E3FC;\n",
              "    }\n",
              "\n",
              "    [theme=dark] .colab-df-convert:hover {\n",
              "      background-color: #434B5C;\n",
              "      box-shadow: 0px 1px 3px 1px rgba(0, 0, 0, 0.15);\n",
              "      filter: drop-shadow(0px 1px 2px rgba(0, 0, 0, 0.3));\n",
              "      fill: #FFFFFF;\n",
              "    }\n",
              "  </style>\n",
              "\n",
              "      <script>\n",
              "        const buttonEl =\n",
              "          document.querySelector('#df-647903a3-eff2-4509-ad92-6527b306e849 button.colab-df-convert');\n",
              "        buttonEl.style.display =\n",
              "          google.colab.kernel.accessAllowed ? 'block' : 'none';\n",
              "\n",
              "        async function convertToInteractive(key) {\n",
              "          const element = document.querySelector('#df-647903a3-eff2-4509-ad92-6527b306e849');\n",
              "          const dataTable =\n",
              "            await google.colab.kernel.invokeFunction('convertToInteractive',\n",
              "                                                     [key], {});\n",
              "          if (!dataTable) return;\n",
              "\n",
              "          const docLinkHtml = 'Like what you see? Visit the ' +\n",
              "            '<a target=\"_blank\" href=https://colab.research.google.com/notebooks/data_table.ipynb>data table notebook</a>'\n",
              "            + ' to learn more about interactive tables.';\n",
              "          element.innerHTML = '';\n",
              "          dataTable['output_type'] = 'display_data';\n",
              "          await google.colab.output.renderOutput(dataTable, element);\n",
              "          const docLink = document.createElement('div');\n",
              "          docLink.innerHTML = docLinkHtml;\n",
              "          element.appendChild(docLink);\n",
              "        }\n",
              "      </script>\n",
              "    </div>\n",
              "  </div>\n",
              "  "
            ]
          },
          "metadata": {},
          "execution_count": 35
        }
      ]
    },
    {
      "cell_type": "code",
      "source": [
        "companies.plot(kind='kde', subplots=True, layout=(2,2), sharex=False, figsize= (16,8))\n",
        "plt.show()"
      ],
      "metadata": {
        "colab": {
          "base_uri": "https://localhost:8080/",
          "height": 1000
        },
        "id": "7mpfFrPcQWsO",
        "outputId": "c0608c55-3f0c-43b3-b999-21fa3f049982"
      },
      "execution_count": null,
      "outputs": [
        {
          "output_type": "stream",
          "name": "stderr",
          "text": [
            "WARNING:matplotlib.font_manager:findfont: Font family 'Lucida Calligraphy' not found.\n",
            "WARNING:matplotlib.font_manager:findfont: Font family 'Lucida Calligraphy' not found.\n",
            "WARNING:matplotlib.font_manager:findfont: Font family 'Lucida Calligraphy' not found.\n",
            "WARNING:matplotlib.font_manager:findfont: Font family 'Lucida Calligraphy' not found.\n",
            "WARNING:matplotlib.font_manager:findfont: Font family 'Lucida Calligraphy' not found.\n",
            "WARNING:matplotlib.font_manager:findfont: Font family 'Lucida Calligraphy' not found.\n",
            "WARNING:matplotlib.font_manager:findfont: Font family 'Lucida Calligraphy' not found.\n",
            "WARNING:matplotlib.font_manager:findfont: Font family 'Lucida Calligraphy' not found.\n",
            "WARNING:matplotlib.font_manager:findfont: Font family 'Lucida Calligraphy' not found.\n",
            "WARNING:matplotlib.font_manager:findfont: Font family 'Lucida Calligraphy' not found.\n",
            "WARNING:matplotlib.font_manager:findfont: Font family 'Lucida Calligraphy' not found.\n",
            "WARNING:matplotlib.font_manager:findfont: Font family 'Lucida Calligraphy' not found.\n",
            "WARNING:matplotlib.font_manager:findfont: Font family 'Lucida Calligraphy' not found.\n",
            "WARNING:matplotlib.font_manager:findfont: Font family 'Lucida Calligraphy' not found.\n",
            "WARNING:matplotlib.font_manager:findfont: Font family 'Lucida Calligraphy' not found.\n",
            "WARNING:matplotlib.font_manager:findfont: Font family 'Lucida Calligraphy' not found.\n",
            "WARNING:matplotlib.font_manager:findfont: Font family 'Lucida Calligraphy' not found.\n",
            "WARNING:matplotlib.font_manager:findfont: Font family 'Lucida Calligraphy' not found.\n",
            "WARNING:matplotlib.font_manager:findfont: Font family 'Lucida Calligraphy' not found.\n",
            "WARNING:matplotlib.font_manager:findfont: Font family 'Lucida Calligraphy' not found.\n",
            "WARNING:matplotlib.font_manager:findfont: Font family 'Lucida Calligraphy' not found.\n",
            "WARNING:matplotlib.font_manager:findfont: Font family 'Lucida Calligraphy' not found.\n",
            "WARNING:matplotlib.font_manager:findfont: Font family 'Lucida Calligraphy' not found.\n",
            "WARNING:matplotlib.font_manager:findfont: Font family 'Lucida Calligraphy' not found.\n",
            "WARNING:matplotlib.font_manager:findfont: Font family 'Lucida Calligraphy' not found.\n",
            "WARNING:matplotlib.font_manager:findfont: Font family 'Lucida Calligraphy' not found.\n",
            "WARNING:matplotlib.font_manager:findfont: Font family 'Lucida Calligraphy' not found.\n",
            "WARNING:matplotlib.font_manager:findfont: Font family 'Lucida Calligraphy' not found.\n",
            "WARNING:matplotlib.font_manager:findfont: Font family 'Lucida Calligraphy' not found.\n",
            "WARNING:matplotlib.font_manager:findfont: Font family 'Lucida Calligraphy' not found.\n",
            "WARNING:matplotlib.font_manager:findfont: Font family 'Lucida Calligraphy' not found.\n",
            "WARNING:matplotlib.font_manager:findfont: Font family 'Lucida Calligraphy' not found.\n",
            "WARNING:matplotlib.font_manager:findfont: Font family 'Lucida Calligraphy' not found.\n",
            "WARNING:matplotlib.font_manager:findfont: Font family 'Lucida Calligraphy' not found.\n",
            "WARNING:matplotlib.font_manager:findfont: Font family 'Lucida Calligraphy' not found.\n",
            "WARNING:matplotlib.font_manager:findfont: Font family 'Lucida Calligraphy' not found.\n",
            "WARNING:matplotlib.font_manager:findfont: Font family 'Lucida Calligraphy' not found.\n",
            "WARNING:matplotlib.font_manager:findfont: Font family 'Lucida Calligraphy' not found.\n",
            "WARNING:matplotlib.font_manager:findfont: Font family 'Lucida Calligraphy' not found.\n",
            "WARNING:matplotlib.font_manager:findfont: Font family 'Lucida Calligraphy' not found.\n",
            "WARNING:matplotlib.font_manager:findfont: Font family 'Lucida Calligraphy' not found.\n",
            "WARNING:matplotlib.font_manager:findfont: Font family 'Lucida Calligraphy' not found.\n",
            "WARNING:matplotlib.font_manager:findfont: Font family 'Lucida Calligraphy' not found.\n",
            "WARNING:matplotlib.font_manager:findfont: Font family 'Lucida Calligraphy' not found.\n",
            "WARNING:matplotlib.font_manager:findfont: Font family 'Lucida Calligraphy' not found.\n",
            "WARNING:matplotlib.font_manager:findfont: Font family 'Lucida Calligraphy' not found.\n",
            "WARNING:matplotlib.font_manager:findfont: Font family 'Lucida Calligraphy' not found.\n",
            "WARNING:matplotlib.font_manager:findfont: Font family 'Lucida Calligraphy' not found.\n",
            "WARNING:matplotlib.font_manager:findfont: Font family 'Lucida Calligraphy' not found.\n",
            "WARNING:matplotlib.font_manager:findfont: Font family 'Lucida Calligraphy' not found.\n",
            "WARNING:matplotlib.font_manager:findfont: Font family 'Lucida Calligraphy' not found.\n",
            "WARNING:matplotlib.font_manager:findfont: Font family 'Lucida Calligraphy' not found.\n",
            "WARNING:matplotlib.font_manager:findfont: Font family 'Lucida Calligraphy' not found.\n",
            "WARNING:matplotlib.font_manager:findfont: Font family 'Lucida Calligraphy' not found.\n",
            "WARNING:matplotlib.font_manager:findfont: Font family 'Lucida Calligraphy' not found.\n",
            "WARNING:matplotlib.font_manager:findfont: Font family 'Lucida Calligraphy' not found.\n",
            "WARNING:matplotlib.font_manager:findfont: Font family 'Lucida Calligraphy' not found.\n",
            "WARNING:matplotlib.font_manager:findfont: Font family 'Lucida Calligraphy' not found.\n",
            "WARNING:matplotlib.font_manager:findfont: Font family 'Lucida Calligraphy' not found.\n",
            "WARNING:matplotlib.font_manager:findfont: Font family 'Lucida Calligraphy' not found.\n",
            "WARNING:matplotlib.font_manager:findfont: Font family 'Lucida Calligraphy' not found.\n",
            "WARNING:matplotlib.font_manager:findfont: Font family 'Lucida Calligraphy' not found.\n",
            "WARNING:matplotlib.font_manager:findfont: Font family 'Lucida Calligraphy' not found.\n",
            "WARNING:matplotlib.font_manager:findfont: Font family 'Lucida Calligraphy' not found.\n",
            "WARNING:matplotlib.font_manager:findfont: Font family 'Lucida Calligraphy' not found.\n",
            "WARNING:matplotlib.font_manager:findfont: Font family 'Lucida Calligraphy' not found.\n",
            "WARNING:matplotlib.font_manager:findfont: Font family 'Lucida Calligraphy' not found.\n",
            "WARNING:matplotlib.font_manager:findfont: Font family 'Lucida Calligraphy' not found.\n",
            "WARNING:matplotlib.font_manager:findfont: Font family 'Lucida Calligraphy' not found.\n",
            "WARNING:matplotlib.font_manager:findfont: Font family 'Lucida Calligraphy' not found.\n",
            "WARNING:matplotlib.font_manager:findfont: Font family 'Lucida Calligraphy' not found.\n",
            "WARNING:matplotlib.font_manager:findfont: Font family 'Lucida Calligraphy' not found.\n",
            "WARNING:matplotlib.font_manager:findfont: Font family 'Lucida Calligraphy' not found.\n",
            "WARNING:matplotlib.font_manager:findfont: Font family 'Lucida Calligraphy' not found.\n",
            "WARNING:matplotlib.font_manager:findfont: Font family 'Lucida Calligraphy' not found.\n",
            "WARNING:matplotlib.font_manager:findfont: Font family 'Lucida Calligraphy' not found.\n",
            "WARNING:matplotlib.font_manager:findfont: Font family 'Lucida Calligraphy' not found.\n",
            "WARNING:matplotlib.font_manager:findfont: Font family 'Lucida Calligraphy' not found.\n",
            "WARNING:matplotlib.font_manager:findfont: Font family 'Lucida Calligraphy' not found.\n",
            "WARNING:matplotlib.font_manager:findfont: Font family 'Lucida Calligraphy' not found.\n",
            "WARNING:matplotlib.font_manager:findfont: Font family 'Lucida Calligraphy' not found.\n",
            "WARNING:matplotlib.font_manager:findfont: Font family 'Lucida Calligraphy' not found.\n",
            "WARNING:matplotlib.font_manager:findfont: Font family 'Lucida Calligraphy' not found.\n",
            "WARNING:matplotlib.font_manager:findfont: Font family 'Lucida Calligraphy' not found.\n",
            "WARNING:matplotlib.font_manager:findfont: Font family 'Lucida Calligraphy' not found.\n",
            "WARNING:matplotlib.font_manager:findfont: Font family 'Lucida Calligraphy' not found.\n",
            "WARNING:matplotlib.font_manager:findfont: Font family 'Lucida Calligraphy' not found.\n",
            "WARNING:matplotlib.font_manager:findfont: Font family 'Lucida Calligraphy' not found.\n",
            "WARNING:matplotlib.font_manager:findfont: Font family 'Lucida Calligraphy' not found.\n",
            "WARNING:matplotlib.font_manager:findfont: Font family 'Lucida Calligraphy' not found.\n",
            "WARNING:matplotlib.font_manager:findfont: Font family 'Lucida Calligraphy' not found.\n",
            "WARNING:matplotlib.font_manager:findfont: Font family 'Lucida Calligraphy' not found.\n",
            "WARNING:matplotlib.font_manager:findfont: Font family 'Lucida Calligraphy' not found.\n",
            "WARNING:matplotlib.font_manager:findfont: Font family 'Lucida Calligraphy' not found.\n",
            "WARNING:matplotlib.font_manager:findfont: Font family 'Lucida Calligraphy' not found.\n",
            "WARNING:matplotlib.font_manager:findfont: Font family 'Lucida Calligraphy' not found.\n",
            "WARNING:matplotlib.font_manager:findfont: Font family 'Lucida Calligraphy' not found.\n",
            "WARNING:matplotlib.font_manager:findfont: Font family 'Lucida Calligraphy' not found.\n",
            "WARNING:matplotlib.font_manager:findfont: Font family 'Lucida Calligraphy' not found.\n",
            "WARNING:matplotlib.font_manager:findfont: Font family 'Lucida Calligraphy' not found.\n",
            "WARNING:matplotlib.font_manager:findfont: Font family 'Lucida Calligraphy' not found.\n",
            "WARNING:matplotlib.font_manager:findfont: Font family 'Lucida Calligraphy' not found.\n",
            "WARNING:matplotlib.font_manager:findfont: Font family 'Lucida Calligraphy' not found.\n",
            "WARNING:matplotlib.font_manager:findfont: Font family 'Lucida Calligraphy' not found.\n",
            "WARNING:matplotlib.font_manager:findfont: Font family 'Lucida Calligraphy' not found.\n",
            "WARNING:matplotlib.font_manager:findfont: Font family 'Lucida Calligraphy' not found.\n",
            "WARNING:matplotlib.font_manager:findfont: Font family 'Lucida Calligraphy' not found.\n",
            "WARNING:matplotlib.font_manager:findfont: Font family 'Lucida Calligraphy' not found.\n",
            "WARNING:matplotlib.font_manager:findfont: Font family 'Lucida Calligraphy' not found.\n",
            "WARNING:matplotlib.font_manager:findfont: Font family 'Lucida Calligraphy' not found.\n",
            "WARNING:matplotlib.font_manager:findfont: Font family 'Lucida Calligraphy' not found.\n",
            "WARNING:matplotlib.font_manager:findfont: Font family 'Lucida Calligraphy' not found.\n",
            "WARNING:matplotlib.font_manager:findfont: Font family 'Lucida Calligraphy' not found.\n",
            "WARNING:matplotlib.font_manager:findfont: Font family 'Lucida Calligraphy' not found.\n",
            "WARNING:matplotlib.font_manager:findfont: Font family 'Lucida Calligraphy' not found.\n",
            "WARNING:matplotlib.font_manager:findfont: Font family 'Lucida Calligraphy' not found.\n",
            "WARNING:matplotlib.font_manager:findfont: Font family 'Lucida Calligraphy' not found.\n",
            "WARNING:matplotlib.font_manager:findfont: Font family 'Lucida Calligraphy' not found.\n",
            "WARNING:matplotlib.font_manager:findfont: Font family 'Lucida Calligraphy' not found.\n",
            "WARNING:matplotlib.font_manager:findfont: Font family 'Lucida Calligraphy' not found.\n",
            "WARNING:matplotlib.font_manager:findfont: Font family 'Lucida Calligraphy' not found.\n",
            "WARNING:matplotlib.font_manager:findfont: Font family 'Lucida Calligraphy' not found.\n",
            "WARNING:matplotlib.font_manager:findfont: Font family 'Lucida Calligraphy' not found.\n",
            "WARNING:matplotlib.font_manager:findfont: Font family 'Lucida Calligraphy' not found.\n",
            "WARNING:matplotlib.font_manager:findfont: Font family 'Lucida Calligraphy' not found.\n",
            "WARNING:matplotlib.font_manager:findfont: Font family 'Lucida Calligraphy' not found.\n",
            "WARNING:matplotlib.font_manager:findfont: Font family 'Lucida Calligraphy' not found.\n",
            "WARNING:matplotlib.font_manager:findfont: Font family 'Lucida Calligraphy' not found.\n",
            "WARNING:matplotlib.font_manager:findfont: Font family 'Lucida Calligraphy' not found.\n",
            "WARNING:matplotlib.font_manager:findfont: Font family 'Lucida Calligraphy' not found.\n",
            "WARNING:matplotlib.font_manager:findfont: Font family 'Lucida Calligraphy' not found.\n",
            "WARNING:matplotlib.font_manager:findfont: Font family 'Lucida Calligraphy' not found.\n",
            "WARNING:matplotlib.font_manager:findfont: Font family 'Lucida Calligraphy' not found.\n",
            "WARNING:matplotlib.font_manager:findfont: Font family 'Lucida Calligraphy' not found.\n",
            "WARNING:matplotlib.font_manager:findfont: Font family 'Lucida Calligraphy' not found.\n",
            "WARNING:matplotlib.font_manager:findfont: Font family 'Lucida Calligraphy' not found.\n",
            "WARNING:matplotlib.font_manager:findfont: Font family 'Lucida Calligraphy' not found.\n",
            "WARNING:matplotlib.font_manager:findfont: Font family 'Lucida Calligraphy' not found.\n",
            "WARNING:matplotlib.font_manager:findfont: Font family 'Lucida Calligraphy' not found.\n",
            "WARNING:matplotlib.font_manager:findfont: Font family 'Lucida Calligraphy' not found.\n",
            "WARNING:matplotlib.font_manager:findfont: Font family 'Lucida Calligraphy' not found.\n",
            "WARNING:matplotlib.font_manager:findfont: Font family 'Lucida Calligraphy' not found.\n",
            "WARNING:matplotlib.font_manager:findfont: Font family 'Lucida Calligraphy' not found.\n",
            "WARNING:matplotlib.font_manager:findfont: Font family 'Lucida Calligraphy' not found.\n",
            "WARNING:matplotlib.font_manager:findfont: Font family 'Lucida Calligraphy' not found.\n",
            "WARNING:matplotlib.font_manager:findfont: Font family 'Lucida Calligraphy' not found.\n",
            "WARNING:matplotlib.font_manager:findfont: Font family 'Lucida Calligraphy' not found.\n",
            "WARNING:matplotlib.font_manager:findfont: Font family 'Lucida Calligraphy' not found.\n",
            "WARNING:matplotlib.font_manager:findfont: Font family 'Lucida Calligraphy' not found.\n",
            "WARNING:matplotlib.font_manager:findfont: Font family 'Lucida Calligraphy' not found.\n",
            "WARNING:matplotlib.font_manager:findfont: Font family 'Lucida Calligraphy' not found.\n",
            "WARNING:matplotlib.font_manager:findfont: Font family 'Lucida Calligraphy' not found.\n",
            "WARNING:matplotlib.font_manager:findfont: Font family 'Lucida Calligraphy' not found.\n",
            "WARNING:matplotlib.font_manager:findfont: Font family 'Lucida Calligraphy' not found.\n",
            "WARNING:matplotlib.font_manager:findfont: Font family 'Lucida Calligraphy' not found.\n",
            "WARNING:matplotlib.font_manager:findfont: Font family 'Lucida Calligraphy' not found.\n",
            "WARNING:matplotlib.font_manager:findfont: Font family 'Lucida Calligraphy' not found.\n",
            "WARNING:matplotlib.font_manager:findfont: Font family 'Lucida Calligraphy' not found.\n",
            "WARNING:matplotlib.font_manager:findfont: Font family 'Lucida Calligraphy' not found.\n",
            "WARNING:matplotlib.font_manager:findfont: Font family 'Lucida Calligraphy' not found.\n",
            "WARNING:matplotlib.font_manager:findfont: Font family 'Lucida Calligraphy' not found.\n",
            "WARNING:matplotlib.font_manager:findfont: Font family 'Lucida Calligraphy' not found.\n",
            "WARNING:matplotlib.font_manager:findfont: Font family 'Lucida Calligraphy' not found.\n",
            "WARNING:matplotlib.font_manager:findfont: Font family 'Lucida Calligraphy' not found.\n",
            "WARNING:matplotlib.font_manager:findfont: Font family 'Lucida Calligraphy' not found.\n",
            "WARNING:matplotlib.font_manager:findfont: Font family 'Lucida Calligraphy' not found.\n",
            "WARNING:matplotlib.font_manager:findfont: Font family 'Lucida Calligraphy' not found.\n",
            "WARNING:matplotlib.font_manager:findfont: Font family 'Lucida Calligraphy' not found.\n",
            "WARNING:matplotlib.font_manager:findfont: Font family 'Lucida Calligraphy' not found.\n",
            "WARNING:matplotlib.font_manager:findfont: Font family 'Lucida Calligraphy' not found.\n",
            "WARNING:matplotlib.font_manager:findfont: Font family 'Lucida Calligraphy' not found.\n",
            "WARNING:matplotlib.font_manager:findfont: Font family 'Lucida Calligraphy' not found.\n",
            "WARNING:matplotlib.font_manager:findfont: Font family 'Lucida Calligraphy' not found.\n",
            "WARNING:matplotlib.font_manager:findfont: Font family 'Lucida Calligraphy' not found.\n",
            "WARNING:matplotlib.font_manager:findfont: Font family 'Lucida Calligraphy' not found.\n",
            "WARNING:matplotlib.font_manager:findfont: Font family 'Lucida Calligraphy' not found.\n",
            "WARNING:matplotlib.font_manager:findfont: Font family 'Lucida Calligraphy' not found.\n",
            "WARNING:matplotlib.font_manager:findfont: Font family 'Lucida Calligraphy' not found.\n",
            "WARNING:matplotlib.font_manager:findfont: Font family 'Lucida Calligraphy' not found.\n",
            "WARNING:matplotlib.font_manager:findfont: Font family 'Lucida Calligraphy' not found.\n",
            "WARNING:matplotlib.font_manager:findfont: Font family 'Lucida Calligraphy' not found.\n"
          ]
        },
        {
          "output_type": "display_data",
          "data": {
            "text/plain": [
              "<Figure size 1600x800 with 4 Axes>"
            ],
            "image/png": "[encoded data removed]"
          },
          "metadata": {}
        }
      ]
    },
    {
      "cell_type": "code",
      "source": [
        "# Correlation Matrix\n",
        "\n",
        "companies_correlation = companies.corr()\n",
        "companies_correlation['Profit'].sort_values(ascending=False)"
      ],
      "metadata": {
        "colab": {
          "base_uri": "https://localhost:8080/"
        },
        "id": "LxgQlENGQf1-",
        "outputId": "8598932d-e42e-44a7-ae15-395b3cf47fd4"
      },
      "execution_count": null,
      "outputs": [
        {
          "output_type": "execute_result",
          "data": {
            "text/plain": [
              "Profit             1.000000\n",
              "R&D Spend          0.972900\n",
              "Marketing Spend    0.747766\n",
              "Administration     0.200717\n",
              "Name: Profit, dtype: float64"
            ]
          },
          "metadata": {},
          "execution_count": 37
        }
      ]
    },
    {
      "cell_type": "code",
      "source": [
        "!pip install category_encoders\n",
        "import category_encoders as ce\n",
        "encoder = ce.OrdinalEncoder(['State'])\n",
        "companies_encoded = encoder.fit_transform(companies)\n",
        "companies_encoded.head(2)"
      ],
      "metadata": {
        "colab": {
          "base_uri": "https://localhost:8080/",
          "height": 454
        },
        "id": "QyduIi2vQhxt",
        "outputId": "dbd96fda-9c10-45c0-9f7a-b4e93ddfd07a"
      },
      "execution_count": null,
      "outputs": [
        {
          "output_type": "stream",
          "name": "stdout",
          "text": [
            "Collecting category_encoders\n",
            "  Downloading category_encoders-2.6.1-py2.py3-none-any.whl (81 kB)\n",
            "\u001b[?25l     \u001b[90m━━━━━━━━━━━━━━━━━━━━━━━━━━━━━━━━━━━━━━━━\u001b[0m \u001b[32m0.0/81.9 kB\u001b[0m \u001b[31m?\u001b[0m eta \u001b[36m-:--:--\u001b[0m\r\u001b[2K     \u001b[90m━━━━━━━━━━━━━━━━━━━━━━━━━━━━━━━━━━━━━━━━\u001b[0m \u001b[32m81.9/81.9 kB\u001b[0m \u001b[31m3.7 MB/s\u001b[0m eta \u001b[36m0:00:00\u001b[0m\n",
            "\u001b[?25hRequirement already satisfied: numpy>=1.14.0 in /usr/local/lib/python3.10/dist-packages (from category_encoders) (1.22.4)\n",
            "Requirement already satisfied: scikit-learn>=0.20.0 in /usr/local/lib/python3.10/dist-packages (from category_encoders) (1.2.2)\n",
            "Requirement already satisfied: scipy>=1.0.0 in /usr/local/lib/python3.10/dist-packages (from category_encoders) (1.10.1)\n",
            "Requirement already satisfied: statsmodels>=0.9.0 in /usr/local/lib/python3.10/dist-packages (from category_encoders) (0.13.5)\n",
            "Requirement already satisfied: pandas>=1.0.5 in /usr/local/lib/python3.10/dist-packages (from category_encoders) (1.5.3)\n",
            "Requirement already satisfied: patsy>=0.5.1 in /usr/local/lib/python3.10/dist-packages (from category_encoders) (0.5.3)\n",
            "Requirement already satisfied: python-dateutil>=2.8.1 in /usr/local/lib/python3.10/dist-packages (from pandas>=1.0.5->category_encoders) (2.8.2)\n",
            "Requirement already satisfied: pytz>=2020.1 in /usr/local/lib/python3.10/dist-packages (from pandas>=1.0.5->category_encoders) (2022.7.1)\n",
            "Requirement already satisfied: six in /usr/local/lib/python3.10/dist-packages (from patsy>=0.5.1->category_encoders) (1.16.0)\n",
            "Requirement already satisfied: joblib>=1.1.1 in /usr/local/lib/python3.10/dist-packages (from scikit-learn>=0.20.0->category_encoders) (1.2.0)\n",
            "Requirement already satisfied: threadpoolctl>=2.0.0 in /usr/local/lib/python3.10/dist-packages (from scikit-learn>=0.20.0->category_encoders) (3.1.0)\n",
            "Requirement already satisfied: packaging>=21.3 in /usr/local/lib/python3.10/dist-packages (from statsmodels>=0.9.0->category_encoders) (23.1)\n",
            "Installing collected packages: category_encoders\n",
            "Successfully installed category_encoders-2.6.1\n",
            "Warning: No categorical columns found. Calling 'transform' will only return input data.\n"
          ]
        },
        {
          "output_type": "execute_result",
          "data": {
            "text/plain": [
              "   R&D Spend  Administration  Marketing Spend     Profit\n",
              "0   165349.2       136897.80        471784.10  192261.83\n",
              "1   162597.7       151377.59        443898.53  191792.06"
            ],
            "text/html": [
              "\n",
              "  <div id=\"df-c55c4c17-3dce-447d-809a-76696c0fa59d\">\n",
              "    <div class=\"colab-df-container\">\n",
              "      <div>\n",
              "<style scoped>\n",
              "    .dataframe tbody tr th:only-of-type {\n",
              "        vertical-align: middle;\n",
              "    }\n",
              "\n",
              "    .dataframe tbody tr th {\n",
              "        vertical-align: top;\n",
              "    }\n",
              "\n",
              "    .dataframe thead th {\n",
              "        text-align: right;\n",
              "    }\n",
              "</style>\n",
              "<table border=\"1\" class=\"dataframe\">\n",
              "  <thead>\n",
              "    <tr style=\"text-align: right;\">\n",
              "      <th></th>\n",
              "      <th>R&amp;D Spend</th>\n",
              "      <th>Administration</th>\n",
              "      <th>Marketing Spend</th>\n",
              "      <th>Profit</th>\n",
              "    </tr>\n",
              "  </thead>\n",
              "  <tbody>\n",
              "    <tr>\n",
              "      <th>0</th>\n",
              "      <td>165349.2</td>\n",
              "      <td>136897.80</td>\n",
              "      <td>471784.10</td>\n",
              "      <td>192261.83</td>\n",
              "    </tr>\n",
              "    <tr>\n",
              "      <th>1</th>\n",
              "      <td>162597.7</td>\n",
              "      <td>151377.59</td>\n",
              "      <td>443898.53</td>\n",
              "      <td>191792.06</td>\n",
              "    </tr>\n",
              "  </tbody>\n",
              "</table>\n",
              "</div>\n",
              "      <button class=\"colab-df-convert\" onclick=\"convertToInteractive('df-c55c4c17-3dce-447d-809a-76696c0fa59d')\"\n",
              "              title=\"Convert this dataframe to an interactive table.\"\n",
              "              style=\"display:none;\">\n",
              "        \n",
              "  <svg xmlns=\"http://www.w3.org/2000/svg\" height=\"24px\"viewBox=\"0 0 24 24\"\n",
              "       width=\"24px\">\n",
              "    <path d=\"M0 0h24v24H0V0z\" fill=\"none\"/>\n",
              "    <path d=\"M18.56 5.44l.94 2.06.94-2.06 2.06-.94-2.06-.94-.94-2.06-.94 2.06-2.06.94zm-11 1L8.5 8.5l.94-2.06 2.06-.94-2.06-.94L8.5 2.5l-.94 2.06-2.06.94zm10 10l.94 2.06.94-2.06 2.06-.94-2.06-.94-.94-2.06-.94 2.06-2.06.94z\"/><path d=\"M17.41 7.96l-1.37-1.37c-.4-.4-.92-.59-1.43-.59-.52 0-1.04.2-1.43.59L10.3 9.45l-7.72 7.72c-.78.78-.78 2.05 0 2.83L4 21.41c.39.39.9.59 1.41.59.51 0 1.02-.2 1.41-.59l7.78-7.78 2.81-2.81c.8-.78.8-2.07 0-2.86zM5.41 20L4 18.59l7.72-7.72 1.47 1.35L5.41 20z\"/>\n",
              "  </svg>\n",
              "      </button>\n",
              "      \n",
              "  <style>\n",
              "    .colab-df-container {\n",
              "      display:flex;\n",
              "      flex-wrap:wrap;\n",
              "      gap: 12px;\n",
              "    }\n",
              "\n",
              "    .colab-df-convert {\n",
              "      background-color: #E8F0FE;\n",
              "      border: none;\n",
              "      border-radius: 50%;\n",
              "      cursor: pointer;\n",
              "      display: none;\n",
              "      fill: #1967D2;\n",
              "      height: 32px;\n",
              "      padding: 0 0 0 0;\n",
              "      width: 32px;\n",
              "    }\n",
              "\n",
              "    .colab-df-convert:hover {\n",
              "      background-color: #E2EBFA;\n",
              "      box-shadow: 0px 1px 2px rgba(60, 64, 67, 0.3), 0px 1px 3px 1px rgba(60, 64, 67, 0.15);\n",
              "      fill: #174EA6;\n",
              "    }\n",
              "\n",
              "    [theme=dark] .colab-df-convert {\n",
              "      background-color: #3B4455;\n",
              "      fill: #D2E3FC;\n",
              "    }\n",
              "\n",
              "    [theme=dark] .colab-df-convert:hover {\n",
              "      background-color: #434B5C;\n",
              "      box-shadow: 0px 1px 3px 1px rgba(0, 0, 0, 0.15);\n",
              "      filter: drop-shadow(0px 1px 2px rgba(0, 0, 0, 0.3));\n",
              "      fill: #FFFFFF;\n",
              "    }\n",
              "  </style>\n",
              "\n",
              "      <script>\n",
              "        const buttonEl =\n",
              "          document.querySelector('#df-c55c4c17-3dce-447d-809a-76696c0fa59d button.colab-df-convert');\n",
              "        buttonEl.style.display =\n",
              "          google.colab.kernel.accessAllowed ? 'block' : 'none';\n",
              "\n",
              "        async function convertToInteractive(key) {\n",
              "          const element = document.querySelector('#df-c55c4c17-3dce-447d-809a-76696c0fa59d');\n",
              "          const dataTable =\n",
              "            await google.colab.kernel.invokeFunction('convertToInteractive',\n",
              "                                                     [key], {});\n",
              "          if (!dataTable) return;\n",
              "\n",
              "          const docLinkHtml = 'Like what you see? Visit the ' +\n",
              "            '<a target=\"_blank\" href=https://colab.research.google.com/notebooks/data_table.ipynb>data table notebook</a>'\n",
              "            + ' to learn more about interactive tables.';\n",
              "          element.innerHTML = '';\n",
              "          dataTable['output_type'] = 'display_data';\n",
              "          await google.colab.output.renderOutput(dataTable, element);\n",
              "          const docLink = document.createElement('div');\n",
              "          docLink.innerHTML = docLinkHtml;\n",
              "          element.appendChild(docLink);\n",
              "        }\n",
              "      </script>\n",
              "    </div>\n",
              "  </div>\n",
              "  "
            ]
          },
          "metadata": {},
          "execution_count": 38
        }
      ]
    },
    {
      "cell_type": "code",
      "source": [
        "X = companies_encoded.drop([\"Profit\"],axis=1)\n",
        "y = companies_encoded['Profit']"
      ],
      "metadata": {
        "id": "19r1YkyKQk6s"
      },
      "execution_count": null,
      "outputs": []
    },
    {
      "cell_type": "code",
      "source": [
        "X = companies_encoded.drop([\"Profit\"],axis=1)\n",
        "y = companies_encoded['Profit']\n",
        "from sklearn.model_selection import train_test_split\n",
        "X_train,X_test,y_train,y_test = train_test_split(X,y,test_size=0.3,random_state=21)"
      ],
      "metadata": {
        "id": "PTDNo7q3Q9Tm"
      },
      "execution_count": null,
      "outputs": []
    },
    {
      "cell_type": "markdown",
      "source": [
        "2.DIFFERENT REGRESSION ALGORITHMS:\n",
        "\n",
        "1. **LinearRegression,**\n",
        "2. **LassoRegression,**\n",
        "3. **RidgeRegression,**\n",
        "4. **ElasticNetRegressor,**\n",
        "5. **XGBRegressor,**\n",
        "6. **RandomForestRegressor,**\n",
        "7. **KNeighborsRegressor,**\n",
        "8. **BaggingRegressor,**\n",
        "9. **HistGradientBoostingRegressor,**\n",
        "10. **ExtraTreesRegressor,**\n",
        "11. **HuberRegressor,**\n",
        "12. **AdaBoostRegressor,**\n",
        "13. **MLPRegressor,**\n",
        "14. **BayesianRidge,**"
      ],
      "metadata": {
        "id": "xshjarehRQuf"
      }
    },
    {
      "cell_type": "code",
      "source": [
        "#LINEAR REGRESSION\n",
        "from sklearn.linear_model import LinearRegression\n",
        "from sklearn.metrics import accuracy_score,r2_score\n",
        "\n",
        "model_LinearRegression = LinearRegression()\n",
        "model_LinearRegression.fit(X_train, y_train)\n",
        "\n",
        "# Finally, predict on test data\n",
        "pred_test_LinearRegression = model_LinearRegression.predict(X_test)\n",
        "\n",
        "r2_test_LinearRegression = r2_score(y_test, pred_test_LinearRegression).round(4)\n",
        "mse_test_LinearRegression = mean_squared_error(y_test, pred_test_LinearRegression).round(4)\n",
        "rmse_test_LinearRegression = np.sqrt(mean_squared_error(y_test, pred_test_LinearRegression)).round(4)\n",
        "mae_test_LinearRegression = mean_absolute_error(y_test, pred_test_LinearRegression).round(4)\n",
        "\n",
        "print(f'\\033[94m')\n",
        "print('R2 Score : ', r2_test_LinearRegression)\n",
        "print(f'\\033[92m')\n",
        "print('MSE      : ', mse_test_LinearRegression)\n",
        "print('RMSE     : ', rmse_test_LinearRegression)\n",
        "print('MAE      : ', mae_test_LinearRegression)"
      ],
      "metadata": {
        "colab": {
          "base_uri": "https://localhost:8080/"
        },
        "id": "ff00dZLuRA3m",
        "outputId": "68a79891-9e1d-46a2-dc21-a9d72048b0ae"
      },
      "execution_count": null,
      "outputs": [
        {
          "output_type": "stream",
          "name": "stdout",
          "text": [
            "\u001b[94m\n",
            "R2 Score :  0.9511\n",
            "\u001b[92m\n",
            "MSE      :  62357479.6176\n",
            "RMSE     :  7896.6752\n",
            "MAE      :  6472.0626\n"
          ]
        }
      ]
    },
    {
      "cell_type": "code",
      "source": [
        "#LassoRegression\n",
        "from sklearn.linear_model import Lasso\n",
        "model_lasso = Lasso(alpha = 0.8)\n",
        "model_lasso.fit(X_train, y_train)\n",
        "\n",
        "# Finally, predict on test data\n",
        "pred_test_lasso = model_lasso.predict(X_test)\n",
        "\n",
        "r2_test_lasso = r2_score(y_test, pred_test_lasso).round(4)\n",
        "mse_test_lasso = mean_squared_error(y_test, pred_test_lasso).round(4)\n",
        "rmse_test_lasso = np.sqrt(mean_squared_error(y_test, pred_test_lasso)).round(4)\n",
        "mae_test_lasso = mean_absolute_error(y_test, pred_test_lasso).round(4)\n",
        "\n",
        "print(f'\\033[94m')\n",
        "print('R2 Score  : ', r2_test_lasso)\n",
        "print(f'\\033[92m')\n",
        "print('MSE       : ', mse_test_lasso)\n",
        "print('RMSE      : ', rmse_test_lasso)\n",
        "print('MAE       : ', mae_test_lasso)"
      ],
      "metadata": {
        "colab": {
          "base_uri": "https://localhost:8080/"
        },
        "id": "P6aDzd4vREzw",
        "outputId": "e92861d7-9437-482c-b966-c13aad1554d6"
      },
      "execution_count": null,
      "outputs": [
        {
          "output_type": "stream",
          "name": "stdout",
          "text": [
            "\u001b[94m\n",
            "R2 Score  :  0.9511\n",
            "\u001b[92m\n",
            "MSE       :  62357479.2203\n",
            "RMSE      :  7896.6752\n",
            "MAE       :  6472.0626\n"
          ]
        }
      ]
    },
    {
      "cell_type": "code",
      "source": [
        "#Ridge regression\n",
        "from sklearn.linear_model import Ridge\n",
        "\n",
        "model_Ridge = Ridge()\n",
        "model_Ridge.fit(X_train, y_train)\n",
        "\n",
        "# Finally, predict on test data\n",
        "pred_test_Ridge = model_Ridge.predict(X_test)\n",
        "\n",
        "r2_test_Ridge = r2_score(y_test, pred_test_Ridge).round(4)\n",
        "mse_test_Ridge = mean_squared_error(y_test, pred_test_Ridge).round(4)\n",
        "rmse_test_Ridge = np.sqrt(mean_squared_error(y_test, pred_test_Ridge)).round(4)\n",
        "mae_test_Ridge = mean_absolute_error(y_test, pred_test_Ridge).round(4)\n",
        "\n",
        "print(f'\\033[94m')\n",
        "print('R2 Score  : ', r2_test_Ridge)\n",
        "print(f'\\033[92m')\n",
        "print('MSE       : ', mse_test_Ridge)\n",
        "print('RMSE      : ', rmse_test_Ridge)\n",
        "print('MAE       : ', mae_test_Ridge)"
      ],
      "metadata": {
        "colab": {
          "base_uri": "https://localhost:8080/"
        },
        "id": "R_DTksfARw9e",
        "outputId": "834447d5-6118-4c51-abf1-a01c201145f4"
      },
      "execution_count": null,
      "outputs": [
        {
          "output_type": "stream",
          "name": "stdout",
          "text": [
            "\u001b[94m\n",
            "R2 Score  :  0.9511\n",
            "\u001b[92m\n",
            "MSE       :  62357479.6217\n",
            "RMSE      :  7896.6752\n",
            "MAE       :  6472.0626\n"
          ]
        }
      ]
    },
    {
      "cell_type": "code",
      "source": [
        "#XGB REGRESSION\n",
        "from xgboost import XGBRegressor\n",
        "\n",
        "model_xgb = XGBRegressor(random_state=42)\n",
        "model_xgb.fit(X_train, y_train)\n",
        "\n",
        "# Finally, predict on test data\n",
        "pred_test_xgb = model_xgb.predict(X_test)\n",
        "\n",
        "r2_test_xgb = r2_score(y_test, pred_test_xgb).round(4)\n",
        "mse_test_xgb = mean_squared_error(y_test, pred_test_xgb).round(4)\n",
        "rmse_test_xgb = np.sqrt(mean_squared_error(y_test, pred_test_xgb)).round(4)\n",
        "mae_test_xgb = mean_absolute_error(y_test, pred_test_xgb).round(4)\n",
        "\n",
        "print(f'\\033[94m')\n",
        "print('R2 Score  : ', r2_test_xgb)\n",
        "print(f'\\033[92m')\n",
        "print('MSE       : ', mse_test_xgb)\n",
        "print('RMSE      : ', rmse_test_xgb)\n",
        "print('MAE       : ', mae_test_xgb)\n"
      ],
      "metadata": {
        "colab": {
          "base_uri": "https://localhost:8080/"
        },
        "id": "mQyJF4YCR6OF",
        "outputId": "41b5b479-79e9-43cc-b6d9-41a12b5b55b2"
      },
      "execution_count": null,
      "outputs": [
        {
          "output_type": "stream",
          "name": "stdout",
          "text": [
            "\u001b[94m\n",
            "R2 Score  :  0.9095\n",
            "\u001b[92m\n",
            "MSE       :  115308087.8922\n",
            "RMSE      :  10738.1604\n",
            "MAE       :  8647.3134\n"
          ]
        }
      ]
    },
    {
      "cell_type": "code",
      "source": [
        "#ELASTIC NET REGRESSION\n",
        "from sklearn.linear_model import  ElasticNet\n",
        "model_ElasticNet = ElasticNet()\n",
        "model_ElasticNet.fit(X_train, y_train)\n",
        "\n",
        "# Finally, predict on test data\n",
        "pred_test_ElasticNet = model_ElasticNet.predict(X_test)\n",
        "\n",
        "r2_test_ElasticNet = r2_score(y_test, pred_test_ElasticNet).round(4)\n",
        "mse_test_ElasticNet = mean_squared_error(y_test, pred_test_ElasticNet).round(4)\n",
        "rmse_test_ElasticNet = np.sqrt(mean_squared_error(y_test, pred_test_ElasticNet)).round(4)\n",
        "mae_test_ElasticNet = mean_absolute_error(y_test, pred_test_ElasticNet).round(4)\n",
        "\n",
        "print(f'\\033[94m')\n",
        "print('R2 Score  : ', r2_test_ElasticNet)\n",
        "print(f'\\033[92m')\n",
        "print('MSE       : ', mse_test_ElasticNet)\n",
        "print('RMSE      : ', rmse_test_ElasticNet)\n",
        "print('MAE       : ', mae_test_ElasticNet)"
      ],
      "metadata": {
        "colab": {
          "base_uri": "https://localhost:8080/"
        },
        "id": "GJc00CtASCY9",
        "outputId": "9d6b1db2-60a0-4feb-c33b-f7e68f206dde"
      },
      "execution_count": null,
      "outputs": [
        {
          "output_type": "stream",
          "name": "stdout",
          "text": [
            "\u001b[94m\n",
            "R2 Score  :  0.9511\n",
            "\u001b[92m\n",
            "MSE       :  62357479.4535\n",
            "RMSE      :  7896.6752\n",
            "MAE       :  6472.0626\n"
          ]
        }
      ]
    },
    {
      "cell_type": "code",
      "source": [
        "#RANDOM FOREST REGRESSION\n",
        "from sklearn.ensemble import RandomForestRegressor\n",
        "\n",
        "model_RandomForestRegressor = RandomForestRegressor()\n",
        "model_RandomForestRegressor.fit(X_train, y_train)\n",
        "\n",
        "# Finally, predict on test data\n",
        "pred_test_RandomForestRegressor = model_RandomForestRegressor.predict(X_test)\n",
        "\n",
        "r2_test_RandomForestRegressor = r2_score(y_test, pred_test_RandomForestRegressor).round(4)\n",
        "mse_test_RandomForestRegressor = mean_squared_error(y_test, pred_test_RandomForestRegressor).round(4)\n",
        "rmse_test_RandomForestRegressor = np.sqrt(mean_squared_error(y_test, pred_test_RandomForestRegressor)).round(4)\n",
        "mae_test_RandomForestRegressor = mean_absolute_error(y_test, pred_test_RandomForestRegressor).round(4)\n",
        "\n",
        "print(f'\\033[94m')\n",
        "print('R2 Score  : ', r2_test_RandomForestRegressor)\n",
        "print(f'\\033[92m')\n",
        "print('MSE       : ', mse_test_RandomForestRegressor)\n",
        "print('RMSE      : ', rmse_test_RandomForestRegressor)\n",
        "print('MAE       : ', mae_test_RandomForestRegressor)"
      ],
      "metadata": {
        "colab": {
          "base_uri": "https://localhost:8080/"
        },
        "id": "7CtqEdj6SEy3",
        "outputId": "174ace30-4b0d-4190-de52-67fa4c02dce8"
      },
      "execution_count": null,
      "outputs": [
        {
          "output_type": "stream",
          "name": "stdout",
          "text": [
            "\u001b[94m\n",
            "R2 Score  :  0.9476\n",
            "\u001b[92m\n",
            "MSE       :  66819534.4162\n",
            "RMSE      :  8174.3216\n",
            "MAE       :  6706.444\n"
          ]
        }
      ]
    },
    {
      "cell_type": "code",
      "source": [
        "#KNN NEIGHBOUR REGRESSION\n",
        "from sklearn.neighbors import KNeighborsRegressor\n",
        "\n",
        "model_KNeighborsRegressor = KNeighborsRegressor()\n",
        "model_KNeighborsRegressor.fit(X_train, y_train)\n",
        "\n",
        "# Finally, predict on test data\n",
        "pred_test_KNeighborsRegressor = model_KNeighborsRegressor.predict(X_test)\n",
        "\n",
        "r2_test_KNeighborsRegressor = r2_score(y_test, pred_test_KNeighborsRegressor).round(4)\n",
        "mse_test_KNeighborsRegressor = mean_squared_error(y_test, pred_test_KNeighborsRegressor).round(4)\n",
        "rmse_test_KNeighborsRegressor = np.sqrt(mean_squared_error(y_test, pred_test_KNeighborsRegressor)).round(4)\n",
        "mae_test_KNeighborsRegressor = mean_absolute_error(y_test, pred_test_KNeighborsRegressor).round(4)\n",
        "\n",
        "print(f'\\033[94m')\n",
        "print('R2 Score  : ', r2_test_KNeighborsRegressor)\n",
        "print(f'\\033[92m')\n",
        "print('MSE       : ', mse_test_KNeighborsRegressor)\n",
        "print('RMSE      : ', rmse_test_KNeighborsRegressor)\n",
        "print('MAE       : ', mae_test_KNeighborsRegressor)"
      ],
      "metadata": {
        "colab": {
          "base_uri": "https://localhost:8080/"
        },
        "id": "q1aYMKqySQJB",
        "outputId": "c5a4d8f8-db86-4056-e383-3348d27883d2"
      },
      "execution_count": null,
      "outputs": [
        {
          "output_type": "stream",
          "name": "stdout",
          "text": [
            "\u001b[94m\n",
            "R2 Score  :  0.7894\n",
            "\u001b[92m\n",
            "MSE       :  268235087.7682\n",
            "RMSE      :  16377.8841\n",
            "MAE       :  12449.904\n"
          ]
        }
      ]
    },
    {
      "cell_type": "code",
      "source": [
        "#BAGGING REGRESSION\n",
        "from sklearn.ensemble import BaggingRegressor\n",
        "model_BaggingRegressor = BaggingRegressor()\n",
        "model_BaggingRegressor.fit(X_train, y_train)\n",
        "\n",
        "# Finally, predict on test data\n",
        "pred_test_BaggingRegressor = model_BaggingRegressor.predict(X_test)\n",
        "\n",
        "r2_test_BaggingRegressor = r2_score(y_test, pred_test_BaggingRegressor).round(4)\n",
        "mse_test_BaggingRegressor = mean_squared_error(y_test, pred_test_BaggingRegressor).round(4)\n",
        "rmse_test_BaggingRegressor = np.sqrt(mean_squared_error(y_test, pred_test_BaggingRegressor)).round(4)\n",
        "mae_test_BaggingRegressor = mean_absolute_error(y_test, pred_test_BaggingRegressor).round(4)\n",
        "\n",
        "print(f'\\033[94m')\n",
        "print('R2 Score  : ', r2_test_BaggingRegressor)\n",
        "print(f'\\033[92m')\n",
        "print('MSE       : ', mse_test_BaggingRegressor)\n",
        "print('RMSE      : ', rmse_test_BaggingRegressor)\n",
        "print('MAE       : ', mae_test_BaggingRegressor)"
      ],
      "metadata": {
        "colab": {
          "base_uri": "https://localhost:8080/"
        },
        "id": "qGFWFfvUSTzu",
        "outputId": "bfb05051-209c-4814-9875-c703dfdac3e5"
      },
      "execution_count": null,
      "outputs": [
        {
          "output_type": "stream",
          "name": "stdout",
          "text": [
            "\u001b[94m\n",
            "R2 Score  :  0.9642\n",
            "\u001b[92m\n",
            "MSE       :  45647774.0869\n",
            "RMSE      :  6756.3136\n",
            "MAE       :  5718.3597\n"
          ]
        }
      ]
    },
    {
      "cell_type": "code",
      "source": [
        "#HISTGRADIENT BOOSSTING REGRESSION\n",
        "from sklearn.ensemble import HistGradientBoostingRegressor\n",
        "\n",
        "model_HistGradientBoostingRegressor = HistGradientBoostingRegressor()\n",
        "model_HistGradientBoostingRegressor.fit(X_train, y_train)\n",
        "\n",
        "# Finally, predict on test data\n",
        "pred_test_HistGradientBoostingRegressor = model_HistGradientBoostingRegressor.predict(X_test)\n",
        "\n",
        "r2_test_HistGradientBoostingRegressor = r2_score(y_test, pred_test_HistGradientBoostingRegressor).round(4)\n",
        "mse_test_HistGradientBoostingRegressor = mean_squared_error(y_test, pred_test_HistGradientBoostingRegressor).round(4)\n",
        "rmse_test_HistGradientBoostingRegressor = np.sqrt(mean_squared_error(y_test, pred_test_HistGradientBoostingRegressor)).round(4)\n",
        "mae_test_HistGradientBoostingRegressor = mean_absolute_error(y_test, pred_test_HistGradientBoostingRegressor).round(4)\n",
        "\n",
        "print(f'\\033[94m')\n",
        "print('R2 Score  : ', r2_test_HistGradientBoostingRegressor)\n",
        "print(f'\\033[92m')\n",
        "print('MSE       : ', mse_test_HistGradientBoostingRegressor)\n",
        "print('RMSE      : ', rmse_test_HistGradientBoostingRegressor)\n",
        "print('MAE       : ', mae_test_HistGradientBoostingRegressor)\n"
      ],
      "metadata": {
        "colab": {
          "base_uri": "https://localhost:8080/"
        },
        "id": "E2V8xYFOTw-t",
        "outputId": "0db88097-770e-482b-862e-6d01ea2b2c71"
      },
      "execution_count": null,
      "outputs": [
        {
          "output_type": "stream",
          "name": "stdout",
          "text": [
            "\u001b[94m\n",
            "R2 Score  :  -0.0001\n",
            "\u001b[92m\n",
            "MSE       :  1274145106.9866\n",
            "RMSE      :  35695.1692\n",
            "MAE       :  26315.4752\n"
          ]
        }
      ]
    },
    {
      "cell_type": "code",
      "source": [
        "#EXTRATREES REGRESSION\n",
        "from sklearn.ensemble import ExtraTreesRegressor\n",
        "\n",
        "model_ExtraTreesRegressor = ExtraTreesRegressor()\n",
        "model_ExtraTreesRegressor.fit(X_train, y_train)\n",
        "\n",
        "# Finally, predict on test data\n",
        "pred_test_ExtraTreesRegressor = model_ExtraTreesRegressor.predict(X_test)\n",
        "\n",
        "r2_test_ExtraTreesRegressor = r2_score(y_test, pred_test_ExtraTreesRegressor).round(4)\n",
        "mse_test_ExtraTreesRegressor = mean_squared_error(y_test, pred_test_ExtraTreesRegressor).round(4)\n",
        "rmse_test_ExtraTreesRegressor = np.sqrt(mean_squared_error(y_test, pred_test_ExtraTreesRegressor)).round(4)\n",
        "mae_test_ExtraTreesRegressor= mean_absolute_error(y_test, pred_test_ExtraTreesRegressor).round(4)\n",
        "\n",
        "print(f'\\033[94m')\n",
        "print('R2 Score  : ', r2_test_ExtraTreesRegressor)\n",
        "print(f'\\033[92m')\n",
        "print('MSE       : ', mse_test_ExtraTreesRegressor)\n",
        "print('RMSE      : ', rmse_test_ExtraTreesRegressor)\n",
        "print('MAE       : ', mae_test_ExtraTreesRegressor)"
      ],
      "metadata": {
        "colab": {
          "base_uri": "https://localhost:8080/"
        },
        "id": "FF5DGgc5WDe6",
        "outputId": "90002748-6b01-4115-990d-b00baa370deb"
      },
      "execution_count": null,
      "outputs": [
        {
          "output_type": "stream",
          "name": "stdout",
          "text": [
            "\u001b[94m\n",
            "R2 Score  :  0.9508\n",
            "\u001b[92m\n",
            "MSE       :  62709568.7597\n",
            "RMSE      :  7918.9374\n",
            "MAE       :  5961.0003\n"
          ]
        }
      ]
    },
    {
      "cell_type": "code",
      "source": [
        "#ADA BOOST REGRESSION\n",
        "from sklearn.ensemble import AdaBoostRegressor\n",
        "\n",
        "model_AdaBoostRegressor = AdaBoostRegressor()\n",
        "model_AdaBoostRegressor.fit(X_train, y_train)\n",
        "\n",
        "# Finally, predict on test data\n",
        "pred_test_AdaBoostRegressor = model_AdaBoostRegressor.predict(X_test)\n",
        "\n",
        "r2_test_AdaBoostRegressor = r2_score(y_test, pred_test_AdaBoostRegressor).round(4)\n",
        "mse_test_AdaBoostRegressor = mean_squared_error(y_test, pred_test_AdaBoostRegressor).round(4)\n",
        "rmse_test_AdaBoostRegressor = np.sqrt(mean_squared_error(y_test, pred_test_AdaBoostRegressor)).round(4)\n",
        "mae_test_AdaBoostRegressor= mean_absolute_error(y_test, pred_test_AdaBoostRegressor).round(4)\n",
        "\n",
        "print(f'\\033[94m')\n",
        "print('R2 Score  : ', r2_test_AdaBoostRegressor)\n",
        "print(f'\\033[92m')\n",
        "print('MSE       : ', mse_test_AdaBoostRegressor)\n",
        "print('RMSE      : ', rmse_test_AdaBoostRegressor)\n",
        "print('MAE       : ', mae_test_AdaBoostRegressor)"
      ],
      "metadata": {
        "colab": {
          "base_uri": "https://localhost:8080/"
        },
        "id": "vhYGkoj7XxWP",
        "outputId": "be97321f-8f79-497c-c8f0-03ef5508e507"
      },
      "execution_count": null,
      "outputs": [
        {
          "output_type": "stream",
          "name": "stdout",
          "text": [
            "\u001b[94m\n",
            "R2 Score  :  0.9157\n",
            "\u001b[92m\n",
            "MSE       :  107390479.4071\n",
            "RMSE      :  10362.9378\n",
            "MAE       :  7610.4772\n"
          ]
        }
      ]
    },
    {
      "cell_type": "code",
      "source": [
        "#MLP REGRESSION\n",
        "from sklearn.neural_network import MLPRegressor\n",
        "\n",
        "model_MLPRegressor = MLPRegressor()\n",
        "model_MLPRegressor.fit(X_train, y_train)\n",
        "\n",
        "# Finally, predict on test data\n",
        "pred_test_MLPRegressor = model_MLPRegressor.predict(X_test)\n",
        "\n",
        "r2_test_MLPRegressor = r2_score(y_test, pred_test_MLPRegressor).round(4)\n",
        "mse_test_MLPRegressor = mean_squared_error(y_test, pred_test_MLPRegressor).round(4)\n",
        "rmse_test_MLPRegressor = np.sqrt(mean_squared_error(y_test, pred_test_MLPRegressor)).round(4)\n",
        "mae_test_MLPRegressor= mean_absolute_error(y_test, pred_test_MLPRegressor).round(4)\n",
        "\n",
        "print(f'\\033[94m')\n",
        "print('R2 Score  : ', r2_test_MLPRegressor)\n",
        "print(f'\\033[92m')\n",
        "print('MSE       : ', mse_test_MLPRegressor)\n",
        "print('RMSE      : ', rmse_test_MLPRegressor)\n",
        "print('MAE       : ', mae_test_MLPRegressor)"
      ],
      "metadata": {
        "colab": {
          "base_uri": "https://localhost:8080/"
        },
        "id": "XqZRr_-CX3G0",
        "outputId": "d51e3d61-f2ef-4743-9fe9-b0c3580f9b41"
      },
      "execution_count": null,
      "outputs": [
        {
          "output_type": "stream",
          "name": "stdout",
          "text": [
            "\u001b[94m\n",
            "R2 Score  :  0.859\n",
            "\u001b[92m\n",
            "MSE       :  179577525.4401\n",
            "RMSE      :  13400.6539\n",
            "MAE       :  11815.5645\n"
          ]
        }
      ]
    },
    {
      "cell_type": "code",
      "source": [
        "#HUBER REGRESSOR\n",
        "from sklearn.linear_model import HuberRegressor\n",
        "\n",
        "model_HuberRegressor = HuberRegressor()\n",
        "model_HuberRegressor.fit(X_train, y_train)\n",
        "\n",
        "# Finally, predict on test data\n",
        "pred_test_HuberRegressor = model_HuberRegressor.predict(X_test)\n",
        "\n",
        "r2_test_HuberRegressor = r2_score(y_test, pred_test_HuberRegressor).round(4)\n",
        "mse_test_HuberRegressor = mean_squared_error(y_test, pred_test_HuberRegressor).round(4)\n",
        "rmse_test_HuberRegressor = np.sqrt(mean_squared_error(y_test, pred_test_HuberRegressor)).round(4)\n",
        "mae_test_HuberRegressor= mean_absolute_error(y_test, pred_test_HuberRegressor).round(4)\n",
        "\n",
        "print(f'\\033[94m')\n",
        "print('R2 Score  : ', r2_test_HuberRegressor)\n",
        "print(f'\\033[92m')\n",
        "print('MSE       : ', mse_test_HuberRegressor)\n",
        "print('RMSE      : ', rmse_test_HuberRegressor)\n",
        "print('MAE       : ', mae_test_HuberRegressor)\n",
        "\n"
      ],
      "metadata": {
        "colab": {
          "base_uri": "https://localhost:8080/"
        },
        "id": "untX8CYXX8m7",
        "outputId": "7f00b390-0331-4ada-a614-5ce877a88d70"
      },
      "execution_count": null,
      "outputs": [
        {
          "output_type": "stream",
          "name": "stdout",
          "text": [
            "\u001b[94m\n",
            "R2 Score  :  0.8398\n",
            "\u001b[92m\n",
            "MSE       :  204047924.5163\n",
            "RMSE      :  14284.5345\n",
            "MAE       :  12131.7868\n"
          ]
        }
      ]
    },
    {
      "cell_type": "code",
      "source": [
        "#BAYESIAN RIDGE REGRESSION\n",
        "from sklearn.linear_model import BayesianRidge\n",
        "\n",
        "model_BayesianRidge = BayesianRidge()\n",
        "model_BayesianRidge.fit(X_train, y_train)\n",
        "\n",
        "# Finally, predict on test data\n",
        "pred_test_BayesianRidge = model_BayesianRidge.predict(X_test)\n",
        "\n",
        "r2_test_BayesianRidge = r2_score(y_test, pred_test_BayesianRidge).round(4)\n",
        "mse_test_BayesianRidge = mean_squared_error(y_test, pred_test_BayesianRidge).round(4)\n",
        "rmse_test_BayesianRidge = np.sqrt(mean_squared_error(y_test, pred_test_BayesianRidge)).round(4)\n",
        "mae_test_BayesianRidge= mean_absolute_error(y_test, pred_test_BayesianRidge).round(4)\n",
        "\n",
        "print(f'\\033[94m')\n",
        "print('R2 Score  : ', r2_test_BayesianRidge)\n",
        "print(f'\\033[92m')\n",
        "print('MSE       : ', mse_test_BayesianRidge)\n",
        "print('RMSE      : ', rmse_test_BayesianRidge)\n",
        "print('MAE       : ', mae_test_BayesianRidge)\n"
      ],
      "metadata": {
        "colab": {
          "base_uri": "https://localhost:8080/"
        },
        "id": "vlXUxcT6YCPH",
        "outputId": "6793e6b6-f30f-41fc-c9ca-41fafaf77514"
      },
      "execution_count": null,
      "outputs": [
        {
          "output_type": "stream",
          "name": "stdout",
          "text": [
            "\u001b[94m\n",
            "R2 Score  :  0.9495\n",
            "\u001b[92m\n",
            "MSE       :  64397950.9393\n",
            "RMSE      :  8024.8334\n",
            "MAE       :  6631.7504\n"
          ]
        }
      ]
    },
    {
      "cell_type": "markdown",
      "source": [
        "***3.Comparing the regression models ***"
      ],
      "metadata": {
        "id": "-LFq9sI_YKdz"
      }
    },
    {
      "cell_type": "markdown",
      "source": [
        "**Best Performing Model : XGBRegressor**"
      ],
      "metadata": {
        "id": "rq3dxVNhYrjy"
      }
    },
    {
      "cell_type": "code",
      "source": [
        "print(f'\\033[94m')\n",
        "prediction = model_xgb.predict(X_test)\n",
        "print(prediction)"
      ],
      "metadata": {
        "colab": {
          "base_uri": "https://localhost:8080/"
        },
        "id": "rAJVo18UYnxf",
        "outputId": "1beb7006-223d-4532-8868-15317be53d2f"
      },
      "execution_count": null,
      "outputs": [
        {
          "output_type": "stream",
          "name": "stdout",
          "text": [
            "\u001b[94m\n",
            "[158185.33   73566.164  74653.28  104040.91  144902.78  182647.22\n",
            " 101241.445  97012.31  141986.95   18155.809  91240.08  128152.57\n",
            " 123980.02  138973.05  101413.02 ]\n"
          ]
        }
      ]
    },
    {
      "cell_type": "code",
      "source": [
        "cross_checking = pd.DataFrame({'Actual' : y_test , 'Predicted' : prediction})\n",
        "cross_checking.head()"
      ],
      "metadata": {
        "colab": {
          "base_uri": "https://localhost:8080/",
          "height": 206
        },
        "id": "n6JqaQwsZqki",
        "outputId": "9e462c82-5a44-413e-c4af-84c823ce3d9c"
      },
      "execution_count": null,
      "outputs": [
        {
          "output_type": "execute_result",
          "data": {
            "text/plain": [
              "       Actual      Predicted\n",
              "7   155752.60  158185.328125\n",
              "44   65200.33   73566.164062\n",
              "43   69758.98   74653.281250\n",
              "25  107404.34  104040.906250\n",
              "14  132602.65  144902.781250"
            ],
            "text/html": [
              "\n",
              "  <div id=\"df-b99e881f-e5ab-4814-9cee-a8d69bc79833\">\n",
              "    <div class=\"colab-df-container\">\n",
              "      <div>\n",
              "<style scoped>\n",
              "    .dataframe tbody tr th:only-of-type {\n",
              "        vertical-align: middle;\n",
              "    }\n",
              "\n",
              "    .dataframe tbody tr th {\n",
              "        vertical-align: top;\n",
              "    }\n",
              "\n",
              "    .dataframe thead th {\n",
              "        text-align: right;\n",
              "    }\n",
              "</style>\n",
              "<table border=\"1\" class=\"dataframe\">\n",
              "  <thead>\n",
              "    <tr style=\"text-align: right;\">\n",
              "      <th></th>\n",
              "      <th>Actual</th>\n",
              "      <th>Predicted</th>\n",
              "    </tr>\n",
              "  </thead>\n",
              "  <tbody>\n",
              "    <tr>\n",
              "      <th>7</th>\n",
              "      <td>155752.60</td>\n",
              "      <td>158185.328125</td>\n",
              "    </tr>\n",
              "    <tr>\n",
              "      <th>44</th>\n",
              "      <td>65200.33</td>\n",
              "      <td>73566.164062</td>\n",
              "    </tr>\n",
              "    <tr>\n",
              "      <th>43</th>\n",
              "      <td>69758.98</td>\n",
              "      <td>74653.281250</td>\n",
              "    </tr>\n",
              "    <tr>\n",
              "      <th>25</th>\n",
              "      <td>107404.34</td>\n",
              "      <td>104040.906250</td>\n",
              "    </tr>\n",
              "    <tr>\n",
              "      <th>14</th>\n",
              "      <td>132602.65</td>\n",
              "      <td>144902.781250</td>\n",
              "    </tr>\n",
              "  </tbody>\n",
              "</table>\n",
              "</div>\n",
              "      <button class=\"colab-df-convert\" onclick=\"convertToInteractive('df-b99e881f-e5ab-4814-9cee-a8d69bc79833')\"\n",
              "              title=\"Convert this dataframe to an interactive table.\"\n",
              "              style=\"display:none;\">\n",
              "        \n",
              "  <svg xmlns=\"http://www.w3.org/2000/svg\" height=\"24px\"viewBox=\"0 0 24 24\"\n",
              "       width=\"24px\">\n",
              "    <path d=\"M0 0h24v24H0V0z\" fill=\"none\"/>\n",
              "    <path d=\"M18.56 5.44l.94 2.06.94-2.06 2.06-.94-2.06-.94-.94-2.06-.94 2.06-2.06.94zm-11 1L8.5 8.5l.94-2.06 2.06-.94-2.06-.94L8.5 2.5l-.94 2.06-2.06.94zm10 10l.94 2.06.94-2.06 2.06-.94-2.06-.94-.94-2.06-.94 2.06-2.06.94z\"/><path d=\"M17.41 7.96l-1.37-1.37c-.4-.4-.92-.59-1.43-.59-.52 0-1.04.2-1.43.59L10.3 9.45l-7.72 7.72c-.78.78-.78 2.05 0 2.83L4 21.41c.39.39.9.59 1.41.59.51 0 1.02-.2 1.41-.59l7.78-7.78 2.81-2.81c.8-.78.8-2.07 0-2.86zM5.41 20L4 18.59l7.72-7.72 1.47 1.35L5.41 20z\"/>\n",
              "  </svg>\n",
              "      </button>\n",
              "      \n",
              "  <style>\n",
              "    .colab-df-container {\n",
              "      display:flex;\n",
              "      flex-wrap:wrap;\n",
              "      gap: 12px;\n",
              "    }\n",
              "\n",
              "    .colab-df-convert {\n",
              "      background-color: #E8F0FE;\n",
              "      border: none;\n",
              "      border-radius: 50%;\n",
              "      cursor: pointer;\n",
              "      display: none;\n",
              "      fill: #1967D2;\n",
              "      height: 32px;\n",
              "      padding: 0 0 0 0;\n",
              "      width: 32px;\n",
              "    }\n",
              "\n",
              "    .colab-df-convert:hover {\n",
              "      background-color: #E2EBFA;\n",
              "      box-shadow: 0px 1px 2px rgba(60, 64, 67, 0.3), 0px 1px 3px 1px rgba(60, 64, 67, 0.15);\n",
              "      fill: #174EA6;\n",
              "    }\n",
              "\n",
              "    [theme=dark] .colab-df-convert {\n",
              "      background-color: #3B4455;\n",
              "      fill: #D2E3FC;\n",
              "    }\n",
              "\n",
              "    [theme=dark] .colab-df-convert:hover {\n",
              "      background-color: #434B5C;\n",
              "      box-shadow: 0px 1px 3px 1px rgba(0, 0, 0, 0.15);\n",
              "      filter: drop-shadow(0px 1px 2px rgba(0, 0, 0, 0.3));\n",
              "      fill: #FFFFFF;\n",
              "    }\n",
              "  </style>\n",
              "\n",
              "      <script>\n",
              "        const buttonEl =\n",
              "          document.querySelector('#df-b99e881f-e5ab-4814-9cee-a8d69bc79833 button.colab-df-convert');\n",
              "        buttonEl.style.display =\n",
              "          google.colab.kernel.accessAllowed ? 'block' : 'none';\n",
              "\n",
              "        async function convertToInteractive(key) {\n",
              "          const element = document.querySelector('#df-b99e881f-e5ab-4814-9cee-a8d69bc79833');\n",
              "          const dataTable =\n",
              "            await google.colab.kernel.invokeFunction('convertToInteractive',\n",
              "                                                     [key], {});\n",
              "          if (!dataTable) return;\n",
              "\n",
              "          const docLinkHtml = 'Like what you see? Visit the ' +\n",
              "            '<a target=\"_blank\" href=https://colab.research.google.com/notebooks/data_table.ipynb>data table notebook</a>'\n",
              "            + ' to learn more about interactive tables.';\n",
              "          element.innerHTML = '';\n",
              "          dataTable['output_type'] = 'display_data';\n",
              "          await google.colab.output.renderOutput(dataTable, element);\n",
              "          const docLink = document.createElement('div');\n",
              "          docLink.innerHTML = docLinkHtml;\n",
              "          element.appendChild(docLink);\n",
              "        }\n",
              "      </script>\n",
              "    </div>\n",
              "  </div>\n",
              "  "
            ]
          },
          "metadata": {},
          "execution_count": 66
        }
      ]
    },
    {
      "cell_type": "code",
      "source": [
        "cross_checking['Error'] = cross_checking['Actual'] - cross_checking['Predicted']\n",
        "cross_checking.head()"
      ],
      "metadata": {
        "colab": {
          "base_uri": "https://localhost:8080/",
          "height": 206
        },
        "id": "PZNAPO56ZwqK",
        "outputId": "ccf4ef25-d8c3-418e-925d-dd28336d63a1"
      },
      "execution_count": null,
      "outputs": [
        {
          "output_type": "execute_result",
          "data": {
            "text/plain": [
              "       Actual      Predicted         Error\n",
              "7   155752.60  158185.328125  -2432.728125\n",
              "44   65200.33   73566.164062  -8365.834062\n",
              "43   69758.98   74653.281250  -4894.301250\n",
              "25  107404.34  104040.906250   3363.433750\n",
              "14  132602.65  144902.781250 -12300.131250"
            ],
            "text/html": [
              "\n",
              "  <div id=\"df-6b36a79e-319c-4c7f-b2aa-982fa514e895\">\n",
              "    <div class=\"colab-df-container\">\n",
              "      <div>\n",
              "<style scoped>\n",
              "    .dataframe tbody tr th:only-of-type {\n",
              "        vertical-align: middle;\n",
              "    }\n",
              "\n",
              "    .dataframe tbody tr th {\n",
              "        vertical-align: top;\n",
              "    }\n",
              "\n",
              "    .dataframe thead th {\n",
              "        text-align: right;\n",
              "    }\n",
              "</style>\n",
              "<table border=\"1\" class=\"dataframe\">\n",
              "  <thead>\n",
              "    <tr style=\"text-align: right;\">\n",
              "      <th></th>\n",
              "      <th>Actual</th>\n",
              "      <th>Predicted</th>\n",
              "      <th>Error</th>\n",
              "    </tr>\n",
              "  </thead>\n",
              "  <tbody>\n",
              "    <tr>\n",
              "      <th>7</th>\n",
              "      <td>155752.60</td>\n",
              "      <td>158185.328125</td>\n",
              "      <td>-2432.728125</td>\n",
              "    </tr>\n",
              "    <tr>\n",
              "      <th>44</th>\n",
              "      <td>65200.33</td>\n",
              "      <td>73566.164062</td>\n",
              "      <td>-8365.834062</td>\n",
              "    </tr>\n",
              "    <tr>\n",
              "      <th>43</th>\n",
              "      <td>69758.98</td>\n",
              "      <td>74653.281250</td>\n",
              "      <td>-4894.301250</td>\n",
              "    </tr>\n",
              "    <tr>\n",
              "      <th>25</th>\n",
              "      <td>107404.34</td>\n",
              "      <td>104040.906250</td>\n",
              "      <td>3363.433750</td>\n",
              "    </tr>\n",
              "    <tr>\n",
              "      <th>14</th>\n",
              "      <td>132602.65</td>\n",
              "      <td>144902.781250</td>\n",
              "      <td>-12300.131250</td>\n",
              "    </tr>\n",
              "  </tbody>\n",
              "</table>\n",
              "</div>\n",
              "      <button class=\"colab-df-convert\" onclick=\"convertToInteractive('df-6b36a79e-319c-4c7f-b2aa-982fa514e895')\"\n",
              "              title=\"Convert this dataframe to an interactive table.\"\n",
              "              style=\"display:none;\">\n",
              "        \n",
              "  <svg xmlns=\"http://www.w3.org/2000/svg\" height=\"24px\"viewBox=\"0 0 24 24\"\n",
              "       width=\"24px\">\n",
              "    <path d=\"M0 0h24v24H0V0z\" fill=\"none\"/>\n",
              "    <path d=\"M18.56 5.44l.94 2.06.94-2.06 2.06-.94-2.06-.94-.94-2.06-.94 2.06-2.06.94zm-11 1L8.5 8.5l.94-2.06 2.06-.94-2.06-.94L8.5 2.5l-.94 2.06-2.06.94zm10 10l.94 2.06.94-2.06 2.06-.94-2.06-.94-.94-2.06-.94 2.06-2.06.94z\"/><path d=\"M17.41 7.96l-1.37-1.37c-.4-.4-.92-.59-1.43-.59-.52 0-1.04.2-1.43.59L10.3 9.45l-7.72 7.72c-.78.78-.78 2.05 0 2.83L4 21.41c.39.39.9.59 1.41.59.51 0 1.02-.2 1.41-.59l7.78-7.78 2.81-2.81c.8-.78.8-2.07 0-2.86zM5.41 20L4 18.59l7.72-7.72 1.47 1.35L5.41 20z\"/>\n",
              "  </svg>\n",
              "      </button>\n",
              "      \n",
              "  <style>\n",
              "    .colab-df-container {\n",
              "      display:flex;\n",
              "      flex-wrap:wrap;\n",
              "      gap: 12px;\n",
              "    }\n",
              "\n",
              "    .colab-df-convert {\n",
              "      background-color: #E8F0FE;\n",
              "      border: none;\n",
              "      border-radius: 50%;\n",
              "      cursor: pointer;\n",
              "      display: none;\n",
              "      fill: #1967D2;\n",
              "      height: 32px;\n",
              "      padding: 0 0 0 0;\n",
              "      width: 32px;\n",
              "    }\n",
              "\n",
              "    .colab-df-convert:hover {\n",
              "      background-color: #E2EBFA;\n",
              "      box-shadow: 0px 1px 2px rgba(60, 64, 67, 0.3), 0px 1px 3px 1px rgba(60, 64, 67, 0.15);\n",
              "      fill: #174EA6;\n",
              "    }\n",
              "\n",
              "    [theme=dark] .colab-df-convert {\n",
              "      background-color: #3B4455;\n",
              "      fill: #D2E3FC;\n",
              "    }\n",
              "\n",
              "    [theme=dark] .colab-df-convert:hover {\n",
              "      background-color: #434B5C;\n",
              "      box-shadow: 0px 1px 3px 1px rgba(0, 0, 0, 0.15);\n",
              "      filter: drop-shadow(0px 1px 2px rgba(0, 0, 0, 0.3));\n",
              "      fill: #FFFFFF;\n",
              "    }\n",
              "  </style>\n",
              "\n",
              "      <script>\n",
              "        const buttonEl =\n",
              "          document.querySelector('#df-6b36a79e-319c-4c7f-b2aa-982fa514e895 button.colab-df-convert');\n",
              "        buttonEl.style.display =\n",
              "          google.colab.kernel.accessAllowed ? 'block' : 'none';\n",
              "\n",
              "        async function convertToInteractive(key) {\n",
              "          const element = document.querySelector('#df-6b36a79e-319c-4c7f-b2aa-982fa514e895');\n",
              "          const dataTable =\n",
              "            await google.colab.kernel.invokeFunction('convertToInteractive',\n",
              "                                                     [key], {});\n",
              "          if (!dataTable) return;\n",
              "\n",
              "          const docLinkHtml = 'Like what you see? Visit the ' +\n",
              "            '<a target=\"_blank\" href=https://colab.research.google.com/notebooks/data_table.ipynb>data table notebook</a>'\n",
              "            + ' to learn more about interactive tables.';\n",
              "          element.innerHTML = '';\n",
              "          dataTable['output_type'] = 'display_data';\n",
              "          await google.colab.output.renderOutput(dataTable, element);\n",
              "          const docLink = document.createElement('div');\n",
              "          docLink.innerHTML = docLinkHtml;\n",
              "          element.appendChild(docLink);\n",
              "        }\n",
              "      </script>\n",
              "    </div>\n",
              "  </div>\n",
              "  "
            ]
          },
          "metadata": {},
          "execution_count": 67
        }
      ]
    },
    {
      "cell_type": "code",
      "source": [
        "cross_checking_final  = cross_checking[cross_checking['Error'] <= 20]\n",
        "cross_checking_final.sample(7).style.background_gradient(\n",
        "        cmap='coolwarm').set_properties(**{\n",
        "            'font-family': 'Lucida Calligraphy',\n",
        "            'color': 'LigntGreen',\n",
        "            'font-size': '15px'\n",
        "        })"
      ],
      "metadata": {
        "colab": {
          "base_uri": "https://localhost:8080/",
          "height": 285
        },
        "id": "e5-mGA4QbO3G",
        "outputId": "5842fce9-74b9-4483-cae3-5cd6b73ee95d"
      },
      "execution_count": null,
      "outputs": [
        {
          "output_type": "execute_result",
          "data": {
            "text/plain": [
              "<pandas.io.formats.style.Styler at 0x7f2879935330>"
            ],
            "text/html": [
              "<style type=\"text/css\">\n",
              "#T_ff5ca_row0_col0 {\n",
              "  background-color: #4961d2;\n",
              "  color: #f1f1f1;\n",
              "  font-family: Lucida Calligraphy;\n",
              "  color: LigntGreen;\n",
              "  font-size: 15px;\n",
              "}\n",
              "#T_ff5ca_row0_col1, #T_ff5ca_row5_col2 {\n",
              "  background-color: #3e51c5;\n",
              "  color: #f1f1f1;\n",
              "  font-family: Lucida Calligraphy;\n",
              "  color: LigntGreen;\n",
              "  font-size: 15px;\n",
              "}\n",
              "#T_ff5ca_row0_col2 {\n",
              "  background-color: #f39475;\n",
              "  color: #000000;\n",
              "  font-family: Lucida Calligraphy;\n",
              "  color: LigntGreen;\n",
              "  font-size: 15px;\n",
              "}\n",
              "#T_ff5ca_row1_col0 {\n",
              "  background-color: #dfdbd9;\n",
              "  color: #000000;\n",
              "  font-family: Lucida Calligraphy;\n",
              "  color: LigntGreen;\n",
              "  font-size: 15px;\n",
              "}\n",
              "#T_ff5ca_row1_col1 {\n",
              "  background-color: #f6bea4;\n",
              "  color: #000000;\n",
              "  font-family: Lucida Calligraphy;\n",
              "  color: LigntGreen;\n",
              "  font-size: 15px;\n",
              "}\n",
              "#T_ff5ca_row1_col2, #T_ff5ca_row2_col0, #T_ff5ca_row2_col1 {\n",
              "  background-color: #3b4cc0;\n",
              "  color: #f1f1f1;\n",
              "  font-family: Lucida Calligraphy;\n",
              "  color: LigntGreen;\n",
              "  font-size: 15px;\n",
              "}\n",
              "#T_ff5ca_row2_col2 {\n",
              "  background-color: #e7d7ce;\n",
              "  color: #000000;\n",
              "  font-family: Lucida Calligraphy;\n",
              "  color: LigntGreen;\n",
              "  font-size: 15px;\n",
              "}\n",
              "#T_ff5ca_row3_col0 {\n",
              "  background-color: #f59c7d;\n",
              "  color: #000000;\n",
              "  font-family: Lucida Calligraphy;\n",
              "  color: LigntGreen;\n",
              "  font-size: 15px;\n",
              "}\n",
              "#T_ff5ca_row3_col1 {\n",
              "  background-color: #e57058;\n",
              "  color: #f1f1f1;\n",
              "  font-family: Lucida Calligraphy;\n",
              "  color: LigntGreen;\n",
              "  font-size: 15px;\n",
              "}\n",
              "#T_ff5ca_row3_col2 {\n",
              "  background-color: #9bbcff;\n",
              "  color: #000000;\n",
              "  font-family: Lucida Calligraphy;\n",
              "  color: LigntGreen;\n",
              "  font-size: 15px;\n",
              "}\n",
              "#T_ff5ca_row4_col0, #T_ff5ca_row4_col1, #T_ff5ca_row6_col2 {\n",
              "  background-color: #b40426;\n",
              "  color: #f1f1f1;\n",
              "  font-family: Lucida Calligraphy;\n",
              "  color: LigntGreen;\n",
              "  font-size: 15px;\n",
              "}\n",
              "#T_ff5ca_row4_col2 {\n",
              "  background-color: #d0473d;\n",
              "  color: #f1f1f1;\n",
              "  font-family: Lucida Calligraphy;\n",
              "  color: LigntGreen;\n",
              "  font-size: 15px;\n",
              "}\n",
              "#T_ff5ca_row5_col0 {\n",
              "  background-color: #f7b89c;\n",
              "  color: #000000;\n",
              "  font-family: Lucida Calligraphy;\n",
              "  color: LigntGreen;\n",
              "  font-size: 15px;\n",
              "}\n",
              "#T_ff5ca_row5_col1 {\n",
              "  background-color: #ec8165;\n",
              "  color: #f1f1f1;\n",
              "  font-family: Lucida Calligraphy;\n",
              "  color: LigntGreen;\n",
              "  font-size: 15px;\n",
              "}\n",
              "#T_ff5ca_row6_col0 {\n",
              "  background-color: #f5c1a9;\n",
              "  color: #000000;\n",
              "  font-family: Lucida Calligraphy;\n",
              "  color: LigntGreen;\n",
              "  font-size: 15px;\n",
              "}\n",
              "#T_ff5ca_row6_col1 {\n",
              "  background-color: #f1ccb8;\n",
              "  color: #000000;\n",
              "  font-family: Lucida Calligraphy;\n",
              "  color: LigntGreen;\n",
              "  font-size: 15px;\n",
              "}\n",
              "</style>\n",
              "<table id=\"T_ff5ca\" class=\"dataframe\">\n",
              "  <thead>\n",
              "    <tr>\n",
              "      <th class=\"blank level0\" >&nbsp;</th>\n",
              "      <th id=\"T_ff5ca_level0_col0\" class=\"col_heading level0 col0\" >Actual</th>\n",
              "      <th id=\"T_ff5ca_level0_col1\" class=\"col_heading level0 col1\" >Predicted</th>\n",
              "      <th id=\"T_ff5ca_level0_col2\" class=\"col_heading level0 col2\" >Error</th>\n",
              "    </tr>\n",
              "  </thead>\n",
              "  <tbody>\n",
              "    <tr>\n",
              "      <th id=\"T_ff5ca_level0_row0\" class=\"row_heading level0 row0\" >43</th>\n",
              "      <td id=\"T_ff5ca_row0_col0\" class=\"data row0 col0\" >69758.980000</td>\n",
              "      <td id=\"T_ff5ca_row0_col1\" class=\"data row0 col1\" >74653.281250</td>\n",
              "      <td id=\"T_ff5ca_row0_col2\" class=\"data row0 col2\" >-4894.301250</td>\n",
              "    </tr>\n",
              "    <tr>\n",
              "      <th id=\"T_ff5ca_level0_row1\" class=\"row_heading level0 row1\" >21</th>\n",
              "      <td id=\"T_ff5ca_row1_col0\" class=\"data row1 col0\" >111313.020000</td>\n",
              "      <td id=\"T_ff5ca_row1_col1\" class=\"data row1 col1\" >128152.570312</td>\n",
              "      <td id=\"T_ff5ca_row1_col2\" class=\"data row1 col2\" >-16839.550312</td>\n",
              "    </tr>\n",
              "    <tr>\n",
              "      <th id=\"T_ff5ca_level0_row2\" class=\"row_heading level0 row2\" >44</th>\n",
              "      <td id=\"T_ff5ca_row2_col0\" class=\"data row2 col0\" >65200.330000</td>\n",
              "      <td id=\"T_ff5ca_row2_col1\" class=\"data row2 col1\" >73566.164062</td>\n",
              "      <td id=\"T_ff5ca_row2_col2\" class=\"data row2 col2\" >-8365.834062</td>\n",
              "    </tr>\n",
              "    <tr>\n",
              "      <th id=\"T_ff5ca_level0_row3\" class=\"row_heading level0 row3\" >14</th>\n",
              "      <td id=\"T_ff5ca_row3_col0\" class=\"data row3 col0\" >132602.650000</td>\n",
              "      <td id=\"T_ff5ca_row3_col1\" class=\"data row3 col1\" >144902.781250</td>\n",
              "      <td id=\"T_ff5ca_row3_col2\" class=\"data row3 col2\" >-12300.131250</td>\n",
              "    </tr>\n",
              "    <tr>\n",
              "      <th id=\"T_ff5ca_level0_row4\" class=\"row_heading level0 row4\" >7</th>\n",
              "      <td id=\"T_ff5ca_row4_col0\" class=\"data row4 col0\" >155752.600000</td>\n",
              "      <td id=\"T_ff5ca_row4_col1\" class=\"data row4 col1\" >158185.328125</td>\n",
              "      <td id=\"T_ff5ca_row4_col2\" class=\"data row4 col2\" >-2432.728125</td>\n",
              "    </tr>\n",
              "    <tr>\n",
              "      <th id=\"T_ff5ca_level0_row5\" class=\"row_heading level0 row5\" >17</th>\n",
              "      <td id=\"T_ff5ca_row5_col0\" class=\"data row5 col0\" >125370.370000</td>\n",
              "      <td id=\"T_ff5ca_row5_col1\" class=\"data row5 col1\" >141986.953125</td>\n",
              "      <td id=\"T_ff5ca_row5_col2\" class=\"data row5 col2\" >-16616.583125</td>\n",
              "    </tr>\n",
              "    <tr>\n",
              "      <th id=\"T_ff5ca_level0_row6\" class=\"row_heading level0 row6\" >19</th>\n",
              "      <td id=\"T_ff5ca_row6_col0\" class=\"data row6 col0\" >122776.860000</td>\n",
              "      <td id=\"T_ff5ca_row6_col1\" class=\"data row6 col1\" >123980.023438</td>\n",
              "      <td id=\"T_ff5ca_row6_col2\" class=\"data row6 col2\" >-1203.163437</td>\n",
              "    </tr>\n",
              "  </tbody>\n",
              "</table>\n"
            ]
          },
          "metadata": {},
          "execution_count": 68
        }
      ]
    }
  ]
}